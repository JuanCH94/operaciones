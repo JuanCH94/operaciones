{
 "cells": [
  {
   "cell_type": "markdown",
   "metadata": {
    "id": "Yo6qGBSdr8l9"
   },
   "source": [
    "<table style=\"width: 100%;\"> <tr> <td style=\"width: 20%; vertical-align: top;\"> <img src=\"https://upload.wikimedia.org/wikipedia/commons/archive/f/fb/20161010213812%21Escudo-UdeA.svg\" alt=\"UdeA\" height=\"150px\"> </td> <td style=\"width: 80%; padding-left: 20px;\"> <strong style=\"font-size: 30px;\">MODELO DE REDES NEURONALES CONVOLUCIONALES PARA UN SISTEMA DE CLASIFICACIÓN CON IMÁGENES DE RESONANCIA MAGNÉTICA </strong><br><br> <span style=\"font-size: 30px;\"> Luisa Fernanda Alzate Cuartas <br> Juan Camilo Henao Caro<br>Isabella Mendez Hoyos<br> Fernando Antonio Piñeres Ramos </span> </td> </tr> </table>"
   ]
  },
  {
   "cell_type": "markdown",
   "metadata": {
    "id": "VnlMJuDasgZM"
   },
   "source": [
    "#### IMPORTE E INSTALACIÓN DE LIBRERÍAS"
   ]
  },
  {
   "cell_type": "code",
   "execution_count": 1,
   "metadata": {
    "colab": {
     "base_uri": "https://localhost:8080/"
    },
    "executionInfo": {
     "elapsed": 1507,
     "status": "ok",
     "timestamp": 1749403411751,
     "user": {
      "displayName": "Juan Camilo Henao",
      "userId": "00355027767211921321"
     },
     "user_tz": 300
    },
    "id": "MKB8DEFQnL_V",
    "outputId": "be1b203d-cb0a-435e-ba7e-245d2a645f19"
   },
   "outputs": [
    {
     "name": "stdout",
     "output_type": "stream",
     "text": [
      "Drive already mounted at /content/drive; to attempt to forcibly remount, call drive.mount(\"/content/drive\", force_remount=True).\n"
     ]
    }
   ],
   "source": [
    "# Conectar con Google Drive\n",
    "from google.colab import drive\n",
    "drive.mount('/content/drive')"
   ]
  },
  {
   "cell_type": "code",
   "execution_count": 2,
   "metadata": {
    "colab": {
     "base_uri": "https://localhost:8080/"
    },
    "executionInfo": {
     "elapsed": 6846,
     "status": "ok",
     "timestamp": 1749403419421,
     "user": {
      "displayName": "Juan Camilo Henao",
      "userId": "00355027767211921321"
     },
     "user_tz": 300
    },
    "id": "WowX7JLroWCS",
    "outputId": "3ed5c6f5-1d13-4383-996f-f9d0b4d99641"
   },
   "outputs": [
    {
     "name": "stdout",
     "output_type": "stream",
     "text": [
      "Requirement already satisfied: optuna in /usr/local/lib/python3.11/dist-packages (4.3.0)\n",
      "Requirement already satisfied: alembic>=1.5.0 in /usr/local/lib/python3.11/dist-packages (from optuna) (1.16.1)\n",
      "Requirement already satisfied: colorlog in /usr/local/lib/python3.11/dist-packages (from optuna) (6.9.0)\n",
      "Requirement already satisfied: numpy in /usr/local/lib/python3.11/dist-packages (from optuna) (2.0.2)\n",
      "Requirement already satisfied: packaging>=20.0 in /usr/local/lib/python3.11/dist-packages (from optuna) (24.2)\n",
      "Requirement already satisfied: sqlalchemy>=1.4.2 in /usr/local/lib/python3.11/dist-packages (from optuna) (2.0.41)\n",
      "Requirement already satisfied: tqdm in /usr/local/lib/python3.11/dist-packages (from optuna) (4.67.1)\n",
      "Requirement already satisfied: PyYAML in /usr/local/lib/python3.11/dist-packages (from optuna) (6.0.2)\n",
      "Requirement already satisfied: Mako in /usr/lib/python3/dist-packages (from alembic>=1.5.0->optuna) (1.1.3)\n",
      "Requirement already satisfied: typing-extensions>=4.12 in /usr/local/lib/python3.11/dist-packages (from alembic>=1.5.0->optuna) (4.14.0)\n",
      "Requirement already satisfied: greenlet>=1 in /usr/local/lib/python3.11/dist-packages (from sqlalchemy>=1.4.2->optuna) (3.2.2)\n"
     ]
    }
   ],
   "source": [
    "# Instalación de librerías.\n",
    "!pip install optuna #Para optimizar hiperparámetros de modelos de aprendizaje automático y otros modelos."
   ]
  },
  {
   "cell_type": "code",
   "execution_count": 3,
   "metadata": {
    "executionInfo": {
     "elapsed": 13,
     "status": "ok",
     "timestamp": 1749403422161,
     "user": {
      "displayName": "Juan Camilo Henao",
      "userId": "00355027767211921321"
     },
     "user_tz": 300
    },
    "id": "Pg5Qol-fnynf"
   },
   "outputs": [],
   "source": [
    "import sys #Interactuar de manera directa con el intérprete de Python\n",
    "import os #Se utiliza para interactuar con el sistema operativo\n",
    "path = '/content/drive/MyDrive/operaciones' # Configura el entorno para trabajar con archivos en Google Drive\n",
    "sys.path.append(path) # Permite importar módulos desde esta ruta.\n",
    "os.chdir(path) # Cambia el directorio de trabajo actual"
   ]
  },
  {
   "cell_type": "code",
   "execution_count": 4,
   "metadata": {
    "colab": {
     "base_uri": "https://localhost:8080/"
    },
    "executionInfo": {
     "elapsed": 107,
     "status": "ok",
     "timestamp": 1749403423895,
     "user": {
      "displayName": "Juan Camilo Henao",
      "userId": "00355027767211921321"
     },
     "user_tz": 300
    },
    "id": "QSwjI9goeMal",
    "outputId": "2a4fdb50-7e21-4932-e974-a3d84ae329a4"
   },
   "outputs": [
    {
     "name": "stdout",
     "output_type": "stream",
     "text": [
      "a_preprocesamiento.ipynb     best_modelo_hiperparametros.keras\t__pycache__\n",
      "best_model.keras\t     b_modelo.ipynb\t\t\tREADME.md\n",
      "best_model_l2_dropout.keras  funciones.py\t\t\tsalidas\n"
     ]
    }
   ],
   "source": [
    "!ls /content/drive/MyDrive/operaciones/"
   ]
  },
  {
   "cell_type": "code",
   "execution_count": 5,
   "metadata": {
    "executionInfo": {
     "elapsed": 18193,
     "status": "ok",
     "timestamp": 1749403444428,
     "user": {
      "displayName": "Juan Camilo Henao",
      "userId": "00355027767211921321"
     },
     "user_tz": 300
    },
    "id": "VnY1km6Wolbo"
   },
   "outputs": [],
   "source": [
    "# Importe de librerías.\n",
    "import optuna #Para el ajuste de hiperparámetros.\n",
    "import numpy as np  #Manipulación de estructuras de datos matriciales y funciones matemáticas de alto nivel.\n",
    "import pandas as pd #Manipulación y transformación de datos.\n",
    "import tensorflow as tf # Permite crear y entrenar redes neuronales, procesar datos y gestionar modelos para diversas aplicaciones.\n",
    "from sklearn import metrics #. Funciones de puntuación, métricas de rendimiento, métricas por pares y cálculos de distancia.\n",
    "from sklearn.metrics import roc_auc_score #Calcular el área bajo la curva característica operativa del receptor (ROC AUC) a partir de los puntajes de predicción.\n",
    "from tensorflow.keras.preprocessing.image import ImageDataGenerator #Permite expandir los datos de entrenamiento de la imagen, mediante el uso de transformaciones como rotaciones aleatorias, transformaciones de corte, cambios, zooms y giros, en los datos de imagen disponibles.\n",
    "from tensorflow.keras.models import Sequential #Apropiado para una pila simple de capas donde cada capa tiene exactamente un tensor de entrada y un tensor de salida .\n",
    "from tensorflow.keras.layers import Conv2D, MaxPooling2D, Flatten, Dense, Dropout, BatchNormalization #Para construir una red neuronal convolucional compleja que pueda procesar y aprender de datos de imágenes, textos secuenciales, o cualquier otro dato que pueda ser representado en una cuadrícula 2D\n",
    "from tensorflow.keras.callbacks import EarlyStopping, ModelCheckpoint ### Importación de Callbacks para el Control del Entrenamiento\n",
    "#Los Callbacks son herramientas poderosas que nos permiten monitorear y controlar el proceso de entrenamiento del modelo, ayudando a optimizar el rendimiento y la eficiencia.\n",
    "from sklearn.utils import shuffle #´Para que el modelo no aprenda de un orden específico y para asegurar que el entrenamiento sea más robusto.\n",
    "import joblib #Para guardar y cargar modelos de machine learning.\n",
    "#Guardar el modelo una vez entrenado para no tener que entrenarlo de nuevo cada vez que lo necesites usar.\n",
    "import random\n",
    "from tensorflow.keras.utils import to_categorical\n",
    "from funciones import balance_datasets, make_gradcam_heatmap, superimpose_heatmap, show_images_with_gradcam"
   ]
  },
  {
   "cell_type": "markdown",
   "metadata": {
    "id": "Mis_sxbLwjy_"
   },
   "source": [
    "#### LECTURA DEL CONJUNTO DE IMÁGENES"
   ]
  },
  {
   "cell_type": "code",
   "execution_count": 6,
   "metadata": {
    "executionInfo": {
     "elapsed": 2259,
     "status": "ok",
     "timestamp": 1749403448791,
     "user": {
      "displayName": "Juan Camilo Henao",
      "userId": "00355027767211921321"
     },
     "user_tz": 300
    },
    "id": "A3homCJZpQ79"
   },
   "outputs": [],
   "source": [
    "#Cargar el conjunto de datos(imágenes) a usar para el modelo.\n",
    "x_train = joblib.load('/content/drive/MyDrive/operaciones/salidas/data_final/x_train.pkl') # Datos(imágenes) para el entrenamiento del modelo.\n",
    "y_train = joblib.load('/content/drive/MyDrive/operaciones/salidas/data_final/y_train.pkl') # Etiquetas para el entrenamiento del modelo.\n",
    "x_test = joblib.load('/content/drive/MyDrive/operaciones/salidas/data_final/x_test.pkl') # Datos(imágenes) para la validación del modelo.\n",
    "y_test = joblib.load('/content/drive/MyDrive/operaciones/salidas/data_final/y_test.pkl') # Etiquetas para el testeo del modelo.\n",
    "x_val = joblib.load('/content/drive/MyDrive/operaciones/salidas/data_final/x_val.pkl') # Datos(imágenes) para la validación del modelo.\n",
    "y_val = joblib.load('/content/drive/MyDrive/operaciones/salidas/data_final/y_val.pkl') # Etiquetas para la validación del modelo."
   ]
  },
  {
   "cell_type": "markdown",
   "metadata": {
    "id": "iwkBEhP2uaKq"
   },
   "source": [
    "#### EXPLORACIÓN DEL CONJUNTO DE DATOS(IMÁGENES)"
   ]
  },
  {
   "cell_type": "code",
   "execution_count": 7,
   "metadata": {
    "colab": {
     "base_uri": "https://localhost:8080/",
     "height": 128
    },
    "executionInfo": {
     "elapsed": 43,
     "status": "ok",
     "timestamp": 1749403457103,
     "user": {
      "displayName": "Juan Camilo Henao",
      "userId": "00355027767211921321"
     },
     "user_tz": 300
    },
    "id": "EKH44ewyuSFD",
    "outputId": "d57b7627-8b7b-4cbc-bdf6-397fdd3067c7"
   },
   "outputs": [
    {
     "data": {
      "text/plain": [
       "(5553, 160, 160, 3)"
      ]
     },
     "metadata": {},
     "output_type": "display_data"
    },
    {
     "data": {
      "text/plain": [
       "(5553,)"
      ]
     },
     "metadata": {},
     "output_type": "display_data"
    },
    {
     "data": {
      "text/plain": [
       "(695, 160, 160, 3)"
      ]
     },
     "metadata": {},
     "output_type": "display_data"
    },
    {
     "data": {
      "text/plain": [
       "(695,)"
      ]
     },
     "metadata": {},
     "output_type": "display_data"
    },
    {
     "data": {
      "text/plain": [
       "(694, 160, 160, 3)"
      ]
     },
     "metadata": {},
     "output_type": "display_data"
    },
    {
     "data": {
      "text/plain": [
       "(694,)"
      ]
     },
     "metadata": {},
     "output_type": "display_data"
    }
   ],
   "source": [
    "#Verificación de las Dimensiones de los Datos\n",
    "display(x_train.shape)\n",
    "display(y_train.shape)\n",
    "display(x_test.shape)\n",
    "display(y_test.shape)\n",
    "display(x_val.shape)\n",
    "display(y_val.shape)"
   ]
  },
  {
   "cell_type": "markdown",
   "metadata": {
    "id": "-QFsycikF7Z8"
   },
   "source": [
    "`Esto nos asegura que las imágenes y sus etiquetas tienen el formato correcto para el modelo.`"
   ]
  },
  {
   "cell_type": "code",
   "execution_count": 8,
   "metadata": {
    "colab": {
     "base_uri": "https://localhost:8080/",
     "height": 72
    },
    "executionInfo": {
     "elapsed": 20,
     "status": "ok",
     "timestamp": 1749403459184,
     "user": {
      "displayName": "Juan Camilo Henao",
      "userId": "00355027767211921321"
     },
     "user_tz": 300
    },
    "id": "RMeqn9wCNGC-",
    "outputId": "5a751914-4e0b-4906-fb06-cc53396215cb"
   },
   "outputs": [
    {
     "data": {
      "text/plain": [
       "(array([0, 1, 2, 3]), array([1232, 1316, 1600, 1405]))"
      ]
     },
     "metadata": {},
     "output_type": "display_data"
    },
    {
     "data": {
      "text/plain": [
       "(array([0, 1, 2, 3]), array([154, 165, 200, 176]))"
      ]
     },
     "metadata": {},
     "output_type": "display_data"
    },
    {
     "data": {
      "text/plain": [
       "(array([0, 1, 2, 3]), array([154, 164, 200, 176]))"
      ]
     },
     "metadata": {},
     "output_type": "display_data"
    }
   ],
   "source": [
    "#Cantidad de clases por conjunto.\n",
    "x_train.shape\n",
    "x_test.shape\n",
    "x_val.shape\n",
    "\n",
    "display(np.unique(y_train, return_counts=True)) # Conteo de las clases para el conjunto de datos(imágenes) para entrenamiento.\n",
    "display(np.unique(y_test, return_counts=True)) #Conteo de clases para el conjunto de datos(imáganes) para testeo.\n",
    "display(np.unique(y_val, return_counts=True)) #Conteo de clases para el conjunto de datos(imágenes) para validación, despliegue."
   ]
  },
  {
   "cell_type": "markdown",
   "metadata": {
    "id": "yMH_Sfr_UfOv"
   },
   "source": [
    "`De acuerdo a lo resultados anteriores, este es un problema de clasificación multiclase y aunque las clases no parecen muy desbalanceadas, para prevenir el sobreajuste y mejorar la robustez del modelo, hemos decido utilizar una técnica llamada aumentación de datos.`"
   ]
  },
  {
   "cell_type": "markdown",
   "metadata": {
    "id": "EP5NALsOwyh_"
   },
   "source": [
    "#### PREPROCESAMIENTO:NORMALIZACIÓN DE LOS PÍXELES."
   ]
  },
  {
   "cell_type": "markdown",
   "metadata": {
    "id": "_T1t4nk0JcvD"
   },
   "source": [
    "`Las imágenes suelen tener valores de píxel en el rango de 0 a 255, por lo tanto es necesario escalarlos para que queden en un rango de 0 a 1, optimizando el rendimiento y la estabilidad del entrenamiento de la red neuronal. `\n",
    "\n",
    "\n"
   ]
  },
  {
   "cell_type": "markdown",
   "metadata": {
    "id": "LfGk1XxAKZSn"
   },
   "source": [
    "\n",
    "\n",
    "```\n",
    "# El proceso implica:\n",
    "1.  Convertir el tipo de dato de los píxeles a `float32`.\n",
    "2.  Dividir cada valor de píxel por el valor máximo posible (255).\n",
    "```\n",
    "\n"
   ]
  },
  {
   "cell_type": "code",
   "execution_count": 9,
   "metadata": {
    "colab": {
     "base_uri": "https://localhost:8080/"
    },
    "executionInfo": {
     "elapsed": 1684,
     "status": "ok",
     "timestamp": 1749403464099,
     "user": {
      "displayName": "Juan Camilo Henao",
      "userId": "00355027767211921321"
     },
     "user_tz": 300
    },
    "id": "GEgPAnqnLd0I",
    "outputId": "510b3f2f-5a4b-43e9-b213-e87c3655d12b"
   },
   "outputs": [
    {
     "name": "stdout",
     "output_type": "stream",
     "text": [
      "x_train: Min=0.0, Max=255.0\n",
      "x_test:  Min=0.0, Max=255.0\n",
      "x_val:   Min=0.0, Max=255.0\n"
     ]
    }
   ],
   "source": [
    "# Convertir el tipo de dato de los píxeles a float32.\n",
    "x_train = x_train.astype('float32')\n",
    "x_test = x_test.astype('float32')\n",
    "x_val = x_val.astype('float32')\n",
    "\n",
    "# Verificación de el nuevo rango de valores de píxeles después de normalizar.\n",
    "print(f\"x_train: Min={x_train.min()}, Max={x_train.max()}\")\n",
    "print(f\"x_test:  Min={x_test.min()}, Max={x_test.max()}\")\n",
    "print(f\"x_val:   Min={x_val.min()}, Max={x_val.max()}\")"
   ]
  },
  {
   "cell_type": "code",
   "execution_count": 10,
   "metadata": {
    "colab": {
     "base_uri": "https://localhost:8080/"
    },
    "executionInfo": {
     "elapsed": 599,
     "status": "ok",
     "timestamp": 1749403465407,
     "user": {
      "displayName": "Juan Camilo Henao",
      "userId": "00355027767211921321"
     },
     "user_tz": 300
    },
    "id": "GrNxIhZVNuZQ",
    "outputId": "05654aa0-8c45-4081-85a3-01545a48f003"
   },
   "outputs": [
    {
     "name": "stdout",
     "output_type": "stream",
     "text": [
      "x_train: Min=0.0, Max=1.0\n",
      "x_test:  Min=0.0, Max=1.0\n",
      "x_val:   Min=0.0, Max=1.0\n"
     ]
    }
   ],
   "source": [
    "# Escalar los valores de los píxeles al rango [0, 1].\n",
    "x_train /= 255\n",
    "x_test /= 255\n",
    "x_val /= 255\n",
    "\n",
    "# Verificación de el nuevo rango de valores de píxeles después de normalizar.\n",
    "print(f\"x_train: Min={x_train.min()}, Max={x_train.max()}\")\n",
    "print(f\"x_test:  Min={x_test.min()}, Max={x_test.max()}\")\n",
    "print(f\"x_val:   Min={x_val.min()}, Max={x_val.max()}\")"
   ]
  },
  {
   "cell_type": "markdown",
   "metadata": {
    "id": "7fZe0kY9Q45q"
   },
   "source": [
    "`Las imágenes se cargaron con valores de píxel en el rango estándar de 0 a 255. Sin embargo, al normalizarlas (dividir por 255), se observó que el valor de píxel más alto presente en todos los conjuntos de datos era 1. Esto resultó en un rango normalizado de 0.0 a 0.00392(1/255). Esta característica es común en imágenes médicas, donde la información relevante a menudo se concentra en un rango de intensidad muy bajo.`"
   ]
  },
  {
   "cell_type": "markdown",
   "metadata": {
    "id": "O9h34xEUxDFV"
   },
   "source": [
    "#### AUMENTACIÓN DE DATOS (DATA AUGMENTATION)."
   ]
  },
  {
   "cell_type": "markdown",
   "metadata": {
    "id": "JvUAtqBTWOEk"
   },
   "source": [
    "`La Aumentación de Datos es una técnica que consiste en crear nuevas muestras de datos de entrenamiento modificando ligeramente las existentes. En el contexto de imágenes, esto significa aplicar transformaciones aleatorias (como rotaciones, zooms, volteos, cambios de brillo, etc.) a las imágenes originales para generar versiones \"nuevas\" que el modelo pueda aprender.`"
   ]
  },
  {
   "cell_type": "markdown",
   "metadata": {
    "id": "UBthyKlVbRrL"
   },
   "source": [
    "`No estamos añadiendo datos reales y únicos, sino expandiendo artificialmente la diversidad de nuestro conjunto de entrenamiento a partir de las imágenes ya disponibles.Cada vez que el modelo accede a una imagen original durante el entrenamiento, se genera una versión ligeramente diferente de la misma. De esta manera, el modelo nunca ve la misma imagen idéntica dos veces, lo que fuerza a aprender patrones más generales en lugar de memorizar ejemplos específicos.`"
   ]
  },
  {
   "cell_type": "code",
   "execution_count": 11,
   "metadata": {
    "executionInfo": {
     "elapsed": 3,
     "status": "ok",
     "timestamp": 1749403468177,
     "user": {
      "displayName": "Juan Camilo Henao",
      "userId": "00355027767211921321"
     },
     "user_tz": 300
    },
    "id": "TH2bUXY-W_Fw"
   },
   "outputs": [],
   "source": [
    "# Generador de augmentación\n",
    "datagen = ImageDataGenerator(\n",
    "    rotation_range=20,\n",
    "    width_shift_range=0.1,\n",
    "    height_shift_range=0.1,\n",
    "    zoom_range=0.1,\n",
    "    horizontal_flip=True,\n",
    "    fill_mode='nearest' #se rellena los pixeles vacios con el pixel mas cercano\n",
    ")"
   ]
  },
  {
   "cell_type": "code",
   "execution_count": 12,
   "metadata": {
    "executionInfo": {
     "elapsed": 7954,
     "status": "ok",
     "timestamp": 1749403477191,
     "user": {
      "displayName": "Juan Camilo Henao",
      "userId": "00355027767211921321"
     },
     "user_tz": 300
    },
    "id": "ClEVDJzkhBlM"
   },
   "outputs": [],
   "source": [
    "# Aumentar el conjunto de entrenamiento.\n",
    "x_train_balanced, y_train_balanced = balance_datasets(x_train, y_train, datagen)"
   ]
  },
  {
   "cell_type": "markdown",
   "metadata": {
    "id": "nwhSVsZ0jzMm"
   },
   "source": [
    "`Aplicamos aumentación de datos únicamente al conjunto de entrenamiento, y mantenemos los datos de validación y prueba \"puros\" para evaluar al modelo.`"
   ]
  },
  {
   "cell_type": "code",
   "execution_count": 19,
   "metadata": {
    "colab": {
     "base_uri": "https://localhost:8080/"
    },
    "executionInfo": {
     "elapsed": 17058,
     "status": "ok",
     "timestamp": 1749403350406,
     "user": {
      "displayName": "Juan Camilo Henao",
      "userId": "00355027767211921321"
     },
     "user_tz": 300
    },
    "id": "8m3s-iA_hVEV",
    "outputId": "0ddc56e8-2d0b-44c8-92c4-32a8ed55f4aa"
   },
   "outputs": [
    {
     "data": {
      "text/plain": [
       "['/content/drive/MyDrive/operaciones/salidas/data_final/y_train_balanced.pkl']"
      ]
     },
     "execution_count": 19,
     "metadata": {},
     "output_type": "execute_result"
    }
   ],
   "source": [
    "# Guardar los conjuntos balanceados.\n",
    "joblib.dump(x_train_balanced, '/content/drive/MyDrive/operaciones/salidas/data_final/x_train_balanced.pkl')\n",
    "joblib.dump(y_train_balanced, '/content/drive/MyDrive/operaciones/salidas/data_final/y_train_balanced.pkl')"
   ]
  },
  {
   "cell_type": "code",
   "execution_count": 27,
   "metadata": {
    "colab": {
     "base_uri": "https://localhost:8080/",
     "height": 54
    },
    "executionInfo": {
     "elapsed": 42,
     "status": "ok",
     "timestamp": 1749403877219,
     "user": {
      "displayName": "Juan Camilo Henao",
      "userId": "00355027767211921321"
     },
     "user_tz": 300
    },
    "id": "bWIfFdDzp_Tp",
    "outputId": "6c7ce1df-504b-48fa-fde7-16145e67f02d"
   },
   "outputs": [
    {
     "data": {
      "text/plain": [
       "(6400, 160, 160, 3)"
      ]
     },
     "metadata": {},
     "output_type": "display_data"
    },
    {
     "data": {
      "text/plain": [
       "(6400, 4)"
      ]
     },
     "metadata": {},
     "output_type": "display_data"
    }
   ],
   "source": [
    "#Dimensiones de los datos(imágenes) balanceados.\n",
    "display(x_train_balanced.shape,y_train_balanced.shape)\n",
    "display(y_train_balanced = to_categorical(y_train_balanced, num_classes=4))"
   ]
  },
  {
   "cell_type": "markdown",
   "metadata": {
    "id": "O2u_JJXLnlEO"
   },
   "source": [
    "Después de aplicada la aumentación de datos, para el entrenamiento contamos con 6400 en total, es decir, 1600 imágenes por categoría: Glioma, Meningioma."
   ]
  },
  {
   "cell_type": "markdown",
   "metadata": {
    "id": "GkOIjcbCxZGt"
   },
   "source": [
    "#### MODELO DE REDES NEURONALES CONVOLUSIONALES"
   ]
  },
  {
   "cell_type": "markdown",
   "metadata": {
    "id": "LcKZZzaB4dQO"
   },
   "source": [
    "##### MODELO BASE\n",
    "---"
   ]
  },
  {
   "cell_type": "code",
   "execution_count": null,
   "metadata": {
    "id": "RP0ix2EeKFnK"
   },
   "outputs": [],
   "source": [
    "# =====================\n",
    "# 2. MODELO FUNCIONAL CNN\n",
    "# =====================\n",
    "\n",
    "SEED = 42\n",
    "random.seed(SEED)\n",
    "np.random.seed(SEED)\n",
    "tf.random.set_seed(SEED)\n",
    "os.environ['TF_DETERMINISTIC_OPS'] = '1'\n",
    "\n",
    "\n",
    "inputs = tf.keras.Input(shape=x_train_balanced.shape[1:])\n",
    "x = tf.keras.layers.Conv2D(16, (3, 3), activation='relu')(inputs)\n",
    "x = tf.keras.layers.MaxPooling2D(pool_size=(2, 2))(x)\n",
    "x = tf.keras.layers.Conv2D(32, (3, 3), activation='relu', name='last_conv')(x)\n",
    "x = tf.keras.layers.MaxPooling2D(pool_size=(2, 2))(x)\n",
    "x = tf.keras.layers.Flatten()(x)\n",
    "x = tf.keras.layers.Dense(64, activation='relu')(x)\n",
    "outputs = tf.keras.layers.Dense(4, activation='softmax')(x)\n",
    "\n",
    "cnn_model = tf.keras.Model(inputs=inputs, outputs=outputs)"
   ]
  },
  {
   "cell_type": "code",
   "execution_count": null,
   "metadata": {
    "colab": {
     "base_uri": "https://localhost:8080/",
     "height": 416
    },
    "executionInfo": {
     "elapsed": 70,
     "status": "ok",
     "timestamp": 1749368645213,
     "user": {
      "displayName": "fernando piñeres",
      "userId": "12136985157685919790"
     },
     "user_tz": 300
    },
    "id": "bRp_wNmmmpju",
    "outputId": "5c3f8f44-274a-4ab8-c3c0-87163d1d126f"
   },
   "outputs": [
    {
     "data": {
      "text/html": [
       "<pre style=\"white-space:pre;overflow-x:auto;line-height:normal;font-family:Menlo,'DejaVu Sans Mono',consolas,'Courier New',monospace\"><span style=\"font-weight: bold\">Model: \"functional\"</span>\n",
       "</pre>\n"
      ],
      "text/plain": [
       "\u001b[1mModel: \"functional\"\u001b[0m\n"
      ]
     },
     "metadata": {},
     "output_type": "display_data"
    },
    {
     "data": {
      "text/html": [
       "<pre style=\"white-space:pre;overflow-x:auto;line-height:normal;font-family:Menlo,'DejaVu Sans Mono',consolas,'Courier New',monospace\">┏━━━━━━━━━━━━━━━━━━━━━━━━━━━━━━━━━┳━━━━━━━━━━━━━━━━━━━━━━━━┳━━━━━━━━━━━━━━━┓\n",
       "┃<span style=\"font-weight: bold\"> Layer (type)                    </span>┃<span style=\"font-weight: bold\"> Output Shape           </span>┃<span style=\"font-weight: bold\">       Param # </span>┃\n",
       "┡━━━━━━━━━━━━━━━━━━━━━━━━━━━━━━━━━╇━━━━━━━━━━━━━━━━━━━━━━━━╇━━━━━━━━━━━━━━━┩\n",
       "│ input_layer (<span style=\"color: #0087ff; text-decoration-color: #0087ff\">InputLayer</span>)        │ (<span style=\"color: #00d7ff; text-decoration-color: #00d7ff\">None</span>, <span style=\"color: #00af00; text-decoration-color: #00af00\">160</span>, <span style=\"color: #00af00; text-decoration-color: #00af00\">160</span>, <span style=\"color: #00af00; text-decoration-color: #00af00\">3</span>)    │             <span style=\"color: #00af00; text-decoration-color: #00af00\">0</span> │\n",
       "├─────────────────────────────────┼────────────────────────┼───────────────┤\n",
       "│ conv2d (<span style=\"color: #0087ff; text-decoration-color: #0087ff\">Conv2D</span>)                 │ (<span style=\"color: #00d7ff; text-decoration-color: #00d7ff\">None</span>, <span style=\"color: #00af00; text-decoration-color: #00af00\">158</span>, <span style=\"color: #00af00; text-decoration-color: #00af00\">158</span>, <span style=\"color: #00af00; text-decoration-color: #00af00\">16</span>)   │           <span style=\"color: #00af00; text-decoration-color: #00af00\">448</span> │\n",
       "├─────────────────────────────────┼────────────────────────┼───────────────┤\n",
       "│ max_pooling2d (<span style=\"color: #0087ff; text-decoration-color: #0087ff\">MaxPooling2D</span>)    │ (<span style=\"color: #00d7ff; text-decoration-color: #00d7ff\">None</span>, <span style=\"color: #00af00; text-decoration-color: #00af00\">79</span>, <span style=\"color: #00af00; text-decoration-color: #00af00\">79</span>, <span style=\"color: #00af00; text-decoration-color: #00af00\">16</span>)     │             <span style=\"color: #00af00; text-decoration-color: #00af00\">0</span> │\n",
       "├─────────────────────────────────┼────────────────────────┼───────────────┤\n",
       "│ last_conv (<span style=\"color: #0087ff; text-decoration-color: #0087ff\">Conv2D</span>)              │ (<span style=\"color: #00d7ff; text-decoration-color: #00d7ff\">None</span>, <span style=\"color: #00af00; text-decoration-color: #00af00\">77</span>, <span style=\"color: #00af00; text-decoration-color: #00af00\">77</span>, <span style=\"color: #00af00; text-decoration-color: #00af00\">32</span>)     │         <span style=\"color: #00af00; text-decoration-color: #00af00\">4,640</span> │\n",
       "├─────────────────────────────────┼────────────────────────┼───────────────┤\n",
       "│ max_pooling2d_1 (<span style=\"color: #0087ff; text-decoration-color: #0087ff\">MaxPooling2D</span>)  │ (<span style=\"color: #00d7ff; text-decoration-color: #00d7ff\">None</span>, <span style=\"color: #00af00; text-decoration-color: #00af00\">38</span>, <span style=\"color: #00af00; text-decoration-color: #00af00\">38</span>, <span style=\"color: #00af00; text-decoration-color: #00af00\">32</span>)     │             <span style=\"color: #00af00; text-decoration-color: #00af00\">0</span> │\n",
       "├─────────────────────────────────┼────────────────────────┼───────────────┤\n",
       "│ flatten (<span style=\"color: #0087ff; text-decoration-color: #0087ff\">Flatten</span>)               │ (<span style=\"color: #00d7ff; text-decoration-color: #00d7ff\">None</span>, <span style=\"color: #00af00; text-decoration-color: #00af00\">46208</span>)          │             <span style=\"color: #00af00; text-decoration-color: #00af00\">0</span> │\n",
       "├─────────────────────────────────┼────────────────────────┼───────────────┤\n",
       "│ dense (<span style=\"color: #0087ff; text-decoration-color: #0087ff\">Dense</span>)                   │ (<span style=\"color: #00d7ff; text-decoration-color: #00d7ff\">None</span>, <span style=\"color: #00af00; text-decoration-color: #00af00\">64</span>)             │     <span style=\"color: #00af00; text-decoration-color: #00af00\">2,957,376</span> │\n",
       "├─────────────────────────────────┼────────────────────────┼───────────────┤\n",
       "│ dense_1 (<span style=\"color: #0087ff; text-decoration-color: #0087ff\">Dense</span>)                 │ (<span style=\"color: #00d7ff; text-decoration-color: #00d7ff\">None</span>, <span style=\"color: #00af00; text-decoration-color: #00af00\">4</span>)              │           <span style=\"color: #00af00; text-decoration-color: #00af00\">260</span> │\n",
       "└─────────────────────────────────┴────────────────────────┴───────────────┘\n",
       "</pre>\n"
      ],
      "text/plain": [
       "┏━━━━━━━━━━━━━━━━━━━━━━━━━━━━━━━━━┳━━━━━━━━━━━━━━━━━━━━━━━━┳━━━━━━━━━━━━━━━┓\n",
       "┃\u001b[1m \u001b[0m\u001b[1mLayer (type)                   \u001b[0m\u001b[1m \u001b[0m┃\u001b[1m \u001b[0m\u001b[1mOutput Shape          \u001b[0m\u001b[1m \u001b[0m┃\u001b[1m \u001b[0m\u001b[1m      Param #\u001b[0m\u001b[1m \u001b[0m┃\n",
       "┡━━━━━━━━━━━━━━━━━━━━━━━━━━━━━━━━━╇━━━━━━━━━━━━━━━━━━━━━━━━╇━━━━━━━━━━━━━━━┩\n",
       "│ input_layer (\u001b[38;5;33mInputLayer\u001b[0m)        │ (\u001b[38;5;45mNone\u001b[0m, \u001b[38;5;34m160\u001b[0m, \u001b[38;5;34m160\u001b[0m, \u001b[38;5;34m3\u001b[0m)    │             \u001b[38;5;34m0\u001b[0m │\n",
       "├─────────────────────────────────┼────────────────────────┼───────────────┤\n",
       "│ conv2d (\u001b[38;5;33mConv2D\u001b[0m)                 │ (\u001b[38;5;45mNone\u001b[0m, \u001b[38;5;34m158\u001b[0m, \u001b[38;5;34m158\u001b[0m, \u001b[38;5;34m16\u001b[0m)   │           \u001b[38;5;34m448\u001b[0m │\n",
       "├─────────────────────────────────┼────────────────────────┼───────────────┤\n",
       "│ max_pooling2d (\u001b[38;5;33mMaxPooling2D\u001b[0m)    │ (\u001b[38;5;45mNone\u001b[0m, \u001b[38;5;34m79\u001b[0m, \u001b[38;5;34m79\u001b[0m, \u001b[38;5;34m16\u001b[0m)     │             \u001b[38;5;34m0\u001b[0m │\n",
       "├─────────────────────────────────┼────────────────────────┼───────────────┤\n",
       "│ last_conv (\u001b[38;5;33mConv2D\u001b[0m)              │ (\u001b[38;5;45mNone\u001b[0m, \u001b[38;5;34m77\u001b[0m, \u001b[38;5;34m77\u001b[0m, \u001b[38;5;34m32\u001b[0m)     │         \u001b[38;5;34m4,640\u001b[0m │\n",
       "├─────────────────────────────────┼────────────────────────┼───────────────┤\n",
       "│ max_pooling2d_1 (\u001b[38;5;33mMaxPooling2D\u001b[0m)  │ (\u001b[38;5;45mNone\u001b[0m, \u001b[38;5;34m38\u001b[0m, \u001b[38;5;34m38\u001b[0m, \u001b[38;5;34m32\u001b[0m)     │             \u001b[38;5;34m0\u001b[0m │\n",
       "├─────────────────────────────────┼────────────────────────┼───────────────┤\n",
       "│ flatten (\u001b[38;5;33mFlatten\u001b[0m)               │ (\u001b[38;5;45mNone\u001b[0m, \u001b[38;5;34m46208\u001b[0m)          │             \u001b[38;5;34m0\u001b[0m │\n",
       "├─────────────────────────────────┼────────────────────────┼───────────────┤\n",
       "│ dense (\u001b[38;5;33mDense\u001b[0m)                   │ (\u001b[38;5;45mNone\u001b[0m, \u001b[38;5;34m64\u001b[0m)             │     \u001b[38;5;34m2,957,376\u001b[0m │\n",
       "├─────────────────────────────────┼────────────────────────┼───────────────┤\n",
       "│ dense_1 (\u001b[38;5;33mDense\u001b[0m)                 │ (\u001b[38;5;45mNone\u001b[0m, \u001b[38;5;34m4\u001b[0m)              │           \u001b[38;5;34m260\u001b[0m │\n",
       "└─────────────────────────────────┴────────────────────────┴───────────────┘\n"
      ]
     },
     "metadata": {},
     "output_type": "display_data"
    },
    {
     "data": {
      "text/html": [
       "<pre style=\"white-space:pre;overflow-x:auto;line-height:normal;font-family:Menlo,'DejaVu Sans Mono',consolas,'Courier New',monospace\"><span style=\"font-weight: bold\"> Total params: </span><span style=\"color: #00af00; text-decoration-color: #00af00\">2,962,724</span> (11.30 MB)\n",
       "</pre>\n"
      ],
      "text/plain": [
       "\u001b[1m Total params: \u001b[0m\u001b[38;5;34m2,962,724\u001b[0m (11.30 MB)\n"
      ]
     },
     "metadata": {},
     "output_type": "display_data"
    },
    {
     "data": {
      "text/html": [
       "<pre style=\"white-space:pre;overflow-x:auto;line-height:normal;font-family:Menlo,'DejaVu Sans Mono',consolas,'Courier New',monospace\"><span style=\"font-weight: bold\"> Trainable params: </span><span style=\"color: #00af00; text-decoration-color: #00af00\">2,962,724</span> (11.30 MB)\n",
       "</pre>\n"
      ],
      "text/plain": [
       "\u001b[1m Trainable params: \u001b[0m\u001b[38;5;34m2,962,724\u001b[0m (11.30 MB)\n"
      ]
     },
     "metadata": {},
     "output_type": "display_data"
    },
    {
     "data": {
      "text/html": [
       "<pre style=\"white-space:pre;overflow-x:auto;line-height:normal;font-family:Menlo,'DejaVu Sans Mono',consolas,'Courier New',monospace\"><span style=\"font-weight: bold\"> Non-trainable params: </span><span style=\"color: #00af00; text-decoration-color: #00af00\">0</span> (0.00 B)\n",
       "</pre>\n"
      ],
      "text/plain": [
       "\u001b[1m Non-trainable params: \u001b[0m\u001b[38;5;34m0\u001b[0m (0.00 B)\n"
      ]
     },
     "metadata": {},
     "output_type": "display_data"
    }
   ],
   "source": [
    "# =====================\n",
    "# 3. COMPILACIÓN\n",
    "# =====================\n",
    "cnn_model.compile(\n",
    "    loss='categorical_crossentropy',\n",
    "    optimizer='adam',\n",
    "    metrics=['AUC']\n",
    ")\n",
    "\n",
    "cnn_model.summary()"
   ]
  },
  {
   "cell_type": "code",
   "execution_count": null,
   "metadata": {
    "colab": {
     "base_uri": "https://localhost:8080/"
    },
    "executionInfo": {
     "elapsed": 1483493,
     "status": "ok",
     "timestamp": 1749370133627,
     "user": {
      "displayName": "fernando piñeres",
      "userId": "12136985157685919790"
     },
     "user_tz": 300
    },
    "id": "OJU8ePkim75m",
    "outputId": "7b603eec-3ad5-4f72-dce5-fd906ac4ce1a"
   },
   "outputs": [
    {
     "name": "stdout",
     "output_type": "stream",
     "text": [
      "Epoch 1/15\n",
      "\u001b[1m64/64\u001b[0m \u001b[32m━━━━━━━━━━━━━━━━━━━━\u001b[0m\u001b[37m\u001b[0m \u001b[1m0s\u001b[0m 2s/step - AUC: 0.7837 - loss: 1.0609\n",
      "Epoch 1: val_AUC improved from -inf to 0.93865, saving model to best_model.keras\n",
      "\u001b[1m64/64\u001b[0m \u001b[32m━━━━━━━━━━━━━━━━━━━━\u001b[0m\u001b[37m\u001b[0m \u001b[1m146s\u001b[0m 2s/step - AUC: 0.7853 - loss: 1.0568 - val_AUC: 0.9386 - val_loss: 0.5928\n",
      "Epoch 2/15\n",
      "\u001b[1m64/64\u001b[0m \u001b[32m━━━━━━━━━━━━━━━━━━━━\u001b[0m\u001b[37m\u001b[0m \u001b[1m0s\u001b[0m 2s/step - AUC: 0.9669 - loss: 0.4352\n",
      "Epoch 2: val_AUC improved from 0.93865 to 0.96343, saving model to best_model.keras\n",
      "\u001b[1m64/64\u001b[0m \u001b[32m━━━━━━━━━━━━━━━━━━━━\u001b[0m\u001b[37m\u001b[0m \u001b[1m141s\u001b[0m 2s/step - AUC: 0.9670 - loss: 0.4348 - val_AUC: 0.9634 - val_loss: 0.4509\n",
      "Epoch 3/15\n",
      "\u001b[1m64/64\u001b[0m \u001b[32m━━━━━━━━━━━━━━━━━━━━\u001b[0m\u001b[37m\u001b[0m \u001b[1m0s\u001b[0m 2s/step - AUC: 0.9827 - loss: 0.3109\n",
      "Epoch 3: val_AUC improved from 0.96343 to 0.96800, saving model to best_model.keras\n",
      "\u001b[1m64/64\u001b[0m \u001b[32m━━━━━━━━━━━━━━━━━━━━\u001b[0m\u001b[37m\u001b[0m \u001b[1m144s\u001b[0m 2s/step - AUC: 0.9827 - loss: 0.3108 - val_AUC: 0.9680 - val_loss: 0.4300\n",
      "Epoch 4/15\n",
      "\u001b[1m64/64\u001b[0m \u001b[32m━━━━━━━━━━━━━━━━━━━━\u001b[0m\u001b[37m\u001b[0m \u001b[1m0s\u001b[0m 2s/step - AUC: 0.9879 - loss: 0.2574\n",
      "Epoch 4: val_AUC improved from 0.96800 to 0.97133, saving model to best_model.keras\n",
      "\u001b[1m64/64\u001b[0m \u001b[32m━━━━━━━━━━━━━━━━━━━━\u001b[0m\u001b[37m\u001b[0m \u001b[1m193s\u001b[0m 2s/step - AUC: 0.9879 - loss: 0.2573 - val_AUC: 0.9713 - val_loss: 0.4065\n",
      "Epoch 5/15\n",
      "\u001b[1m64/64\u001b[0m \u001b[32m━━━━━━━━━━━━━━━━━━━━\u001b[0m\u001b[37m\u001b[0m \u001b[1m0s\u001b[0m 2s/step - AUC: 0.9960 - loss: 0.1546\n",
      "Epoch 5: val_AUC improved from 0.97133 to 0.97587, saving model to best_model.keras\n",
      "\u001b[1m64/64\u001b[0m \u001b[32m━━━━━━━━━━━━━━━━━━━━\u001b[0m\u001b[37m\u001b[0m \u001b[1m151s\u001b[0m 2s/step - AUC: 0.9960 - loss: 0.1545 - val_AUC: 0.9759 - val_loss: 0.3874\n",
      "Epoch 6/15\n",
      "\u001b[1m64/64\u001b[0m \u001b[32m━━━━━━━━━━━━━━━━━━━━\u001b[0m\u001b[37m\u001b[0m \u001b[1m0s\u001b[0m 2s/step - AUC: 0.9981 - loss: 0.1099\n",
      "Epoch 6: val_AUC improved from 0.97587 to 0.97610, saving model to best_model.keras\n",
      "\u001b[1m64/64\u001b[0m \u001b[32m━━━━━━━━━━━━━━━━━━━━\u001b[0m\u001b[37m\u001b[0m \u001b[1m136s\u001b[0m 2s/step - AUC: 0.9981 - loss: 0.1098 - val_AUC: 0.9761 - val_loss: 0.3935\n",
      "Epoch 7/15\n",
      "\u001b[1m64/64\u001b[0m \u001b[32m━━━━━━━━━━━━━━━━━━━━\u001b[0m\u001b[37m\u001b[0m \u001b[1m0s\u001b[0m 2s/step - AUC: 0.9992 - loss: 0.0760\n",
      "Epoch 7: val_AUC improved from 0.97610 to 0.97689, saving model to best_model.keras\n",
      "\u001b[1m64/64\u001b[0m \u001b[32m━━━━━━━━━━━━━━━━━━━━\u001b[0m\u001b[37m\u001b[0m \u001b[1m144s\u001b[0m 2s/step - AUC: 0.9992 - loss: 0.0760 - val_AUC: 0.9769 - val_loss: 0.3949\n",
      "Epoch 8/15\n",
      "\u001b[1m64/64\u001b[0m \u001b[32m━━━━━━━━━━━━━━━━━━━━\u001b[0m\u001b[37m\u001b[0m \u001b[1m0s\u001b[0m 2s/step - AUC: 0.9992 - loss: 0.0671\n",
      "Epoch 8: val_AUC did not improve from 0.97689\n",
      "\u001b[1m64/64\u001b[0m \u001b[32m━━━━━━━━━━━━━━━━━━━━\u001b[0m\u001b[37m\u001b[0m \u001b[1m141s\u001b[0m 2s/step - AUC: 0.9991 - loss: 0.0672 - val_AUC: 0.9642 - val_loss: 0.5231\n",
      "Epoch 9/15\n",
      "\u001b[1m64/64\u001b[0m \u001b[32m━━━━━━━━━━━━━━━━━━━━\u001b[0m\u001b[37m\u001b[0m \u001b[1m0s\u001b[0m 2s/step - AUC: 0.9989 - loss: 0.0767\n",
      "Epoch 9: val_AUC did not improve from 0.97689\n",
      "\u001b[1m64/64\u001b[0m \u001b[32m━━━━━━━━━━━━━━━━━━━━\u001b[0m\u001b[37m\u001b[0m \u001b[1m141s\u001b[0m 2s/step - AUC: 0.9989 - loss: 0.0766 - val_AUC: 0.9650 - val_loss: 0.5342\n",
      "Epoch 10/15\n",
      "\u001b[1m64/64\u001b[0m \u001b[32m━━━━━━━━━━━━━━━━━━━━\u001b[0m\u001b[37m\u001b[0m \u001b[1m0s\u001b[0m 2s/step - AUC: 0.9992 - loss: 0.0696\n",
      "Epoch 10: val_AUC did not improve from 0.97689\n",
      "\u001b[1m64/64\u001b[0m \u001b[32m━━━━━━━━━━━━━━━━━━━━\u001b[0m\u001b[37m\u001b[0m \u001b[1m140s\u001b[0m 2s/step - AUC: 0.9992 - loss: 0.0695 - val_AUC: 0.9704 - val_loss: 0.4671\n"
     ]
    }
   ],
   "source": [
    "from keras.callbacks import EarlyStopping, ModelCheckpoint\n",
    "\n",
    "early_stopping = EarlyStopping(\n",
    "    monitor='val_AUC',\n",
    "    patience=3,\n",
    "    mode='max',\n",
    "    restore_best_weights=True\n",
    ")\n",
    "\n",
    "model_checkpoint = ModelCheckpoint(\n",
    "    'best_model.keras',\n",
    "    monitor='val_AUC',\n",
    "    mode='max',\n",
    "    save_best_only=True,\n",
    "    verbose=1\n",
    ")\n",
    "\n",
    "history = cnn_model.fit(\n",
    "    x_train_balanced, y_train_balanced,\n",
    "    validation_data=(x_test_balanced, y_test_balanced),\n",
    "    epochs=15,\n",
    "    callbacks=[early_stopping, model_checkpoint],\n",
    "    batch_size=100\n",
    ")"
   ]
  },
  {
   "cell_type": "code",
   "execution_count": null,
   "metadata": {
    "id": "n_3OD2LcUMoK"
   },
   "outputs": [],
   "source": [
    "import matplotlib.pyplot as plt"
   ]
  },
  {
   "cell_type": "code",
   "execution_count": null,
   "metadata": {
    "colab": {
     "base_uri": "https://localhost:8080/",
     "height": 472
    },
    "executionInfo": {
     "elapsed": 448,
     "status": "ok",
     "timestamp": 1749370154152,
     "user": {
      "displayName": "fernando piñeres",
      "userId": "12136985157685919790"
     },
     "user_tz": 300
    },
    "id": "nox6IlFWSVCE",
    "outputId": "95bb6846-498d-4e3c-8c02-762314397a89"
   },
   "outputs": [
    {
     "data": {
      "image/png": "[encoded data removed]",
      "text/plain": [
       "<Figure size 640x480 with 1 Axes>"
      ]
     },
     "metadata": {},
     "output_type": "display_data"
    }
   ],
   "source": [
    "plt.plot(history.history['loss'])\n",
    "plt.plot(history.history['val_loss'])\n",
    "plt.title('variacion de la funcion de perdida')\n",
    "plt.ylabel('Loss')\n",
    "plt.xlabel('Epoch - entrenamiento')\n",
    "plt.legend(['Train', 'Test'], loc='upper left')\n",
    "plt.show()"
   ]
  },
  {
   "cell_type": "code",
   "execution_count": null,
   "metadata": {
    "colab": {
     "base_uri": "https://localhost:8080/",
     "height": 472
    },
    "executionInfo": {
     "elapsed": 341,
     "status": "ok",
     "timestamp": 1749370159574,
     "user": {
      "displayName": "fernando piñeres",
      "userId": "12136985157685919790"
     },
     "user_tz": 300
    },
    "id": "t1F7YbiA4sTN",
    "outputId": "9ae462a6-890c-4e36-f632-3150d98f3c99"
   },
   "outputs": [
    {
     "data": {
      "image/png": "[encoded data removed]",
      "text/plain": [
       "<Figure size 640x480 with 1 Axes>"
      ]
     },
     "metadata": {},
     "output_type": "display_data"
    }
   ],
   "source": [
    "plt.plot(history.history['AUC'])\n",
    "plt.plot(history.history['val_AUC'])\n",
    "plt.title('variacion de la metrica AUC')\n",
    "plt.ylabel('loss')\n",
    "plt.xlabel('Epoch - entrenamiento')\n",
    "plt.legend(['Train', 'Test'], loc='upper left')\n",
    "plt.show()"
   ]
  },
  {
   "cell_type": "markdown",
   "metadata": {
    "id": "MND9wENG2mv_"
   },
   "source": [
    "#### XAI\n",
    "---"
   ]
  },
  {
   "cell_type": "markdown",
   "metadata": {
    "id": "S1sARuU22xkk"
   },
   "source": [
    "\n",
    "\n",
    "Este bloque de código implementa Grad-CAM (Gradient-weighted Class Activation Mapping), una técnica de\n",
    "Inteligencia Artificial Explicable (XAI) utilizada para modelos de visión por computador, como redes neuronales\n",
    "convolucionales (CNN). Grad-CAM genera un mapa de calor (heatmap) que resalta las regiones de una imagen\n",
    "que más influyen en la predicción del modelo. Esto permite visualizar \"dónde está mirando\" la red neuronal\n",
    "cuando clasifica una imagen, lo cual es especialmente útil en contextos como el diagnóstico médico, donde es\n",
    "importante entender y confiar en la decisión automática. Al superponer el heatmap sobre la imagen original,\n",
    "obtenemos una explicación visual de la predicción, lo que convierte este enfoque en una herramienta poderosa\n",
    "para interpretar modelos de aprendizaje profundo.\n",
    "\n",
    "\n",
    "\n",
    "\n"
   ]
  },
  {
   "cell_type": "code",
   "execution_count": null,
   "metadata": {
    "id": "O0raGVRWuvQ0"
   },
   "outputs": [],
   "source": [
    "import matplotlib.pyplot as plt\n",
    "import numpy as np\n",
    "import tensorflow as tf\n",
    "\n",
    "# Definir las clases que tienes\n",
    "class_names = ['glioma', 'meningioma', 'pituitary', 'notumor']\n",
    "\n",
    "# Función para generar Grad-CAM (supongo que ya la tienes, si no puedo ayudarte a armarla)\n",
    "def make_gradcam_heatmap(img_array, model, last_conv_layer_name, pred_index=None):\n",
    "    grad_model = tf.keras.models.Model(\n",
    "        [model.inputs], [model.get_layer(last_conv_layer_name).output, model.output]\n",
    "    )\n",
    "    with tf.GradientTape() as tape:\n",
    "        conv_outputs, predictions = grad_model(img_array)\n",
    "        if pred_index is None:\n",
    "            pred_index = tf.argmax(predictions[0])\n",
    "        class_channel = predictions[:, pred_index]\n",
    "\n",
    "    grads = tape.gradient(class_channel, conv_outputs)\n",
    "    pooled_grads = tf.reduce_mean(grads, axis=(0, 1, 2))\n",
    "    conv_outputs = conv_outputs[0]\n",
    "    heatmap = conv_outputs @ pooled_grads[..., tf.newaxis]\n",
    "    heatmap = tf.squeeze(heatmap)\n",
    "    heatmap = tf.maximum(heatmap, 0) / tf.math.reduce_max(heatmap)\n",
    "    return heatmap.numpy()\n",
    "\n",
    "# Función para superponer heatmap a la imagen\n",
    "def superimpose_heatmap(img, heatmap, alpha=0.4):\n",
    "    import cv2\n",
    "    heatmap = cv2.resize(heatmap, (img.shape[1], img.shape[0]))\n",
    "    heatmap = np.uint8(255 * heatmap)\n",
    "    heatmap_color = cv2.applyColorMap(heatmap, cv2.COLORMAP_JET)\n",
    "    superimposed_img = heatmap_color * alpha + img\n",
    "    superimposed_img = np.clip(superimposed_img, 0, 255).astype(np.uint8)\n",
    "    return superimposed_img\n",
    "\n",
    "# Ejemplo para mostrar imágenes y predicciones con Grad-CAM\n",
    "def show_images_with_gradcam(model, dataset, start_idx, end_idx, last_conv_layer_name):\n",
    "    for i in range(start_idx, end_idx):\n",
    "        img = dataset[i]\n",
    "        img_array = np.expand_dims(img, axis=0)  # Expandir dims para batch\n",
    "        preds = model.predict(img_array)\n",
    "        pred_class = np.argmax(preds[0])\n",
    "        pred_label = class_names[pred_class]\n",
    "\n",
    "        heatmap = make_gradcam_heatmap(img_array, model, last_conv_layer_name, pred_class)\n",
    "        img_uint8 = (img * 255).astype(np.uint8)  # Si tu imagen está en [0,1]\n",
    "        superimposed_img = superimpose_heatmap(img_uint8, heatmap)\n",
    "\n",
    "        plt.figure(figsize=(10,4))\n",
    "\n",
    "        plt.subplot(1, 3, 1)\n",
    "        plt.title('Imagen Original')\n",
    "        plt.imshow(img)\n",
    "        plt.axis('off')\n",
    "\n",
    "        plt.subplot(1, 3, 2)\n",
    "        plt.title('Heatmap Grad-CAM')\n",
    "        plt.imshow(heatmap, cmap='jet')\n",
    "        plt.axis('off')\n",
    "\n",
    "        plt.subplot(1, 3, 3)\n",
    "        plt.title(f'Imagen + Heatmap\\nPredicción: {pred_label}')\n",
    "        plt.imshow(superimposed_img)\n",
    "        plt.axis('off')\n",
    "\n",
    "        plt.show()\n",
    "\n",
    "# Usar la función (por ejemplo para imágenes de índice 8 a 12)\n",
    "show_images_with_gradcam(cnn_model, x_test_balanced, 80, 95, last_conv_layer_name='conv2d')\n"
   ]
  },
  {
   "cell_type": "markdown",
   "metadata": {
    "id": "rkvl2fMx4oFy"
   },
   "source": [
    "##### MODELO CNN CON REGULARIZACION\n",
    "---"
   ]
  },
  {
   "cell_type": "code",
   "execution_count": null,
   "metadata": {
    "id": "M-9Pwedu0STQ"
   },
   "outputs": [],
   "source": [
    "import numpy as np\n",
    "import tensorflow as tf\n",
    "from tensorflow.keras import regularizers\n",
    "from tensorflow.keras.callbacks import ModelCheckpoint\n",
    "import random\n",
    "import os\n",
    "\n",
    "# ---------- SEMILLA PARA REPRODUCIBILIDAD ----------\n",
    "seed = 42\n",
    "np.random.seed(seed)\n",
    "tf.random.set_seed(seed)\n",
    "random.seed(seed)\n",
    "os.environ['PYTHONHASHSEED'] = str(seed)\n",
    "\n",
    "# ---------- HIPERPARÁMETROS ----------\n",
    "reg_strength = 0.001\n",
    "dropout_rate = 0.1\n",
    "input_shape = x_train_balanced.shape[1:]\n",
    "\n",
    "# ---------- MODELO FUNCIONAL CON L2 + DROPOUT ----------\n",
    "inputs = tf.keras.Input(shape=input_shape)\n",
    "\n",
    "x = tf.keras.layers.Conv2D(16, kernel_size=(3, 3), activation='relu',\n",
    "                           kernel_regularizer=regularizers.l2(reg_strength))(inputs)\n",
    "x = tf.keras.layers.MaxPooling2D(pool_size=(2, 2))(x)\n",
    "x = tf.keras.layers.Dropout(dropout_rate)(x)\n",
    "\n",
    "x = tf.keras.layers.Conv2D(32, kernel_size=(3, 3), activation='relu',\n",
    "                           kernel_regularizer=regularizers.l2(reg_strength))(x)\n",
    "x = tf.keras.layers.MaxPooling2D(pool_size=(2, 2))(x)\n",
    "x = tf.keras.layers.Dropout(dropout_rate)(x)\n",
    "\n",
    "x = tf.keras.layers.Flatten()(x)\n",
    "x = tf.keras.layers.Dense(64, activation='relu',\n",
    "                          kernel_regularizer=regularizers.l2(reg_strength))(x)\n",
    "x = tf.keras.layers.Dropout(dropout_rate)(x)\n",
    "\n",
    "outputs = tf.keras.layers.Dense(4, activation='softmax')(x)\n",
    "\n",
    "cnn_model2 = tf.keras.Model(inputs=inputs, outputs=outputs)"
   ]
  },
  {
   "cell_type": "code",
   "execution_count": null,
   "metadata": {
    "colab": {
     "base_uri": "https://localhost:8080/",
     "height": 520
    },
    "executionInfo": {
     "elapsed": 50,
     "status": "ok",
     "timestamp": 1749370192770,
     "user": {
      "displayName": "fernando piñeres",
      "userId": "12136985157685919790"
     },
     "user_tz": 300
    },
    "id": "1ADWo7g10lPy",
    "outputId": "efb4454a-a17d-42c9-f60a-1734a340179e"
   },
   "outputs": [
    {
     "data": {
      "text/html": [
       "<pre style=\"white-space:pre;overflow-x:auto;line-height:normal;font-family:Menlo,'DejaVu Sans Mono',consolas,'Courier New',monospace\"><span style=\"font-weight: bold\">Model: \"functional_16\"</span>\n",
       "</pre>\n"
      ],
      "text/plain": [
       "\u001b[1mModel: \"functional_16\"\u001b[0m\n"
      ]
     },
     "metadata": {},
     "output_type": "display_data"
    },
    {
     "data": {
      "text/html": [
       "<pre style=\"white-space:pre;overflow-x:auto;line-height:normal;font-family:Menlo,'DejaVu Sans Mono',consolas,'Courier New',monospace\">┏━━━━━━━━━━━━━━━━━━━━━━━━━━━━━━━━━┳━━━━━━━━━━━━━━━━━━━━━━━━┳━━━━━━━━━━━━━━━┓\n",
       "┃<span style=\"font-weight: bold\"> Layer (type)                    </span>┃<span style=\"font-weight: bold\"> Output Shape           </span>┃<span style=\"font-weight: bold\">       Param # </span>┃\n",
       "┡━━━━━━━━━━━━━━━━━━━━━━━━━━━━━━━━━╇━━━━━━━━━━━━━━━━━━━━━━━━╇━━━━━━━━━━━━━━━┩\n",
       "│ input_layer_1 (<span style=\"color: #0087ff; text-decoration-color: #0087ff\">InputLayer</span>)      │ (<span style=\"color: #00d7ff; text-decoration-color: #00d7ff\">None</span>, <span style=\"color: #00af00; text-decoration-color: #00af00\">160</span>, <span style=\"color: #00af00; text-decoration-color: #00af00\">160</span>, <span style=\"color: #00af00; text-decoration-color: #00af00\">3</span>)    │             <span style=\"color: #00af00; text-decoration-color: #00af00\">0</span> │\n",
       "├─────────────────────────────────┼────────────────────────┼───────────────┤\n",
       "│ conv2d_1 (<span style=\"color: #0087ff; text-decoration-color: #0087ff\">Conv2D</span>)               │ (<span style=\"color: #00d7ff; text-decoration-color: #00d7ff\">None</span>, <span style=\"color: #00af00; text-decoration-color: #00af00\">158</span>, <span style=\"color: #00af00; text-decoration-color: #00af00\">158</span>, <span style=\"color: #00af00; text-decoration-color: #00af00\">16</span>)   │           <span style=\"color: #00af00; text-decoration-color: #00af00\">448</span> │\n",
       "├─────────────────────────────────┼────────────────────────┼───────────────┤\n",
       "│ max_pooling2d_2 (<span style=\"color: #0087ff; text-decoration-color: #0087ff\">MaxPooling2D</span>)  │ (<span style=\"color: #00d7ff; text-decoration-color: #00d7ff\">None</span>, <span style=\"color: #00af00; text-decoration-color: #00af00\">79</span>, <span style=\"color: #00af00; text-decoration-color: #00af00\">79</span>, <span style=\"color: #00af00; text-decoration-color: #00af00\">16</span>)     │             <span style=\"color: #00af00; text-decoration-color: #00af00\">0</span> │\n",
       "├─────────────────────────────────┼────────────────────────┼───────────────┤\n",
       "│ dropout (<span style=\"color: #0087ff; text-decoration-color: #0087ff\">Dropout</span>)               │ (<span style=\"color: #00d7ff; text-decoration-color: #00d7ff\">None</span>, <span style=\"color: #00af00; text-decoration-color: #00af00\">79</span>, <span style=\"color: #00af00; text-decoration-color: #00af00\">79</span>, <span style=\"color: #00af00; text-decoration-color: #00af00\">16</span>)     │             <span style=\"color: #00af00; text-decoration-color: #00af00\">0</span> │\n",
       "├─────────────────────────────────┼────────────────────────┼───────────────┤\n",
       "│ conv2d_2 (<span style=\"color: #0087ff; text-decoration-color: #0087ff\">Conv2D</span>)               │ (<span style=\"color: #00d7ff; text-decoration-color: #00d7ff\">None</span>, <span style=\"color: #00af00; text-decoration-color: #00af00\">77</span>, <span style=\"color: #00af00; text-decoration-color: #00af00\">77</span>, <span style=\"color: #00af00; text-decoration-color: #00af00\">32</span>)     │         <span style=\"color: #00af00; text-decoration-color: #00af00\">4,640</span> │\n",
       "├─────────────────────────────────┼────────────────────────┼───────────────┤\n",
       "│ max_pooling2d_3 (<span style=\"color: #0087ff; text-decoration-color: #0087ff\">MaxPooling2D</span>)  │ (<span style=\"color: #00d7ff; text-decoration-color: #00d7ff\">None</span>, <span style=\"color: #00af00; text-decoration-color: #00af00\">38</span>, <span style=\"color: #00af00; text-decoration-color: #00af00\">38</span>, <span style=\"color: #00af00; text-decoration-color: #00af00\">32</span>)     │             <span style=\"color: #00af00; text-decoration-color: #00af00\">0</span> │\n",
       "├─────────────────────────────────┼────────────────────────┼───────────────┤\n",
       "│ dropout_1 (<span style=\"color: #0087ff; text-decoration-color: #0087ff\">Dropout</span>)             │ (<span style=\"color: #00d7ff; text-decoration-color: #00d7ff\">None</span>, <span style=\"color: #00af00; text-decoration-color: #00af00\">38</span>, <span style=\"color: #00af00; text-decoration-color: #00af00\">38</span>, <span style=\"color: #00af00; text-decoration-color: #00af00\">32</span>)     │             <span style=\"color: #00af00; text-decoration-color: #00af00\">0</span> │\n",
       "├─────────────────────────────────┼────────────────────────┼───────────────┤\n",
       "│ flatten_1 (<span style=\"color: #0087ff; text-decoration-color: #0087ff\">Flatten</span>)             │ (<span style=\"color: #00d7ff; text-decoration-color: #00d7ff\">None</span>, <span style=\"color: #00af00; text-decoration-color: #00af00\">46208</span>)          │             <span style=\"color: #00af00; text-decoration-color: #00af00\">0</span> │\n",
       "├─────────────────────────────────┼────────────────────────┼───────────────┤\n",
       "│ dense_2 (<span style=\"color: #0087ff; text-decoration-color: #0087ff\">Dense</span>)                 │ (<span style=\"color: #00d7ff; text-decoration-color: #00d7ff\">None</span>, <span style=\"color: #00af00; text-decoration-color: #00af00\">64</span>)             │     <span style=\"color: #00af00; text-decoration-color: #00af00\">2,957,376</span> │\n",
       "├─────────────────────────────────┼────────────────────────┼───────────────┤\n",
       "│ dropout_2 (<span style=\"color: #0087ff; text-decoration-color: #0087ff\">Dropout</span>)             │ (<span style=\"color: #00d7ff; text-decoration-color: #00d7ff\">None</span>, <span style=\"color: #00af00; text-decoration-color: #00af00\">64</span>)             │             <span style=\"color: #00af00; text-decoration-color: #00af00\">0</span> │\n",
       "├─────────────────────────────────┼────────────────────────┼───────────────┤\n",
       "│ dense_3 (<span style=\"color: #0087ff; text-decoration-color: #0087ff\">Dense</span>)                 │ (<span style=\"color: #00d7ff; text-decoration-color: #00d7ff\">None</span>, <span style=\"color: #00af00; text-decoration-color: #00af00\">4</span>)              │           <span style=\"color: #00af00; text-decoration-color: #00af00\">260</span> │\n",
       "└─────────────────────────────────┴────────────────────────┴───────────────┘\n",
       "</pre>\n"
      ],
      "text/plain": [
       "┏━━━━━━━━━━━━━━━━━━━━━━━━━━━━━━━━━┳━━━━━━━━━━━━━━━━━━━━━━━━┳━━━━━━━━━━━━━━━┓\n",
       "┃\u001b[1m \u001b[0m\u001b[1mLayer (type)                   \u001b[0m\u001b[1m \u001b[0m┃\u001b[1m \u001b[0m\u001b[1mOutput Shape          \u001b[0m\u001b[1m \u001b[0m┃\u001b[1m \u001b[0m\u001b[1m      Param #\u001b[0m\u001b[1m \u001b[0m┃\n",
       "┡━━━━━━━━━━━━━━━━━━━━━━━━━━━━━━━━━╇━━━━━━━━━━━━━━━━━━━━━━━━╇━━━━━━━━━━━━━━━┩\n",
       "│ input_layer_1 (\u001b[38;5;33mInputLayer\u001b[0m)      │ (\u001b[38;5;45mNone\u001b[0m, \u001b[38;5;34m160\u001b[0m, \u001b[38;5;34m160\u001b[0m, \u001b[38;5;34m3\u001b[0m)    │             \u001b[38;5;34m0\u001b[0m │\n",
       "├─────────────────────────────────┼────────────────────────┼───────────────┤\n",
       "│ conv2d_1 (\u001b[38;5;33mConv2D\u001b[0m)               │ (\u001b[38;5;45mNone\u001b[0m, \u001b[38;5;34m158\u001b[0m, \u001b[38;5;34m158\u001b[0m, \u001b[38;5;34m16\u001b[0m)   │           \u001b[38;5;34m448\u001b[0m │\n",
       "├─────────────────────────────────┼────────────────────────┼───────────────┤\n",
       "│ max_pooling2d_2 (\u001b[38;5;33mMaxPooling2D\u001b[0m)  │ (\u001b[38;5;45mNone\u001b[0m, \u001b[38;5;34m79\u001b[0m, \u001b[38;5;34m79\u001b[0m, \u001b[38;5;34m16\u001b[0m)     │             \u001b[38;5;34m0\u001b[0m │\n",
       "├─────────────────────────────────┼────────────────────────┼───────────────┤\n",
       "│ dropout (\u001b[38;5;33mDropout\u001b[0m)               │ (\u001b[38;5;45mNone\u001b[0m, \u001b[38;5;34m79\u001b[0m, \u001b[38;5;34m79\u001b[0m, \u001b[38;5;34m16\u001b[0m)     │             \u001b[38;5;34m0\u001b[0m │\n",
       "├─────────────────────────────────┼────────────────────────┼───────────────┤\n",
       "│ conv2d_2 (\u001b[38;5;33mConv2D\u001b[0m)               │ (\u001b[38;5;45mNone\u001b[0m, \u001b[38;5;34m77\u001b[0m, \u001b[38;5;34m77\u001b[0m, \u001b[38;5;34m32\u001b[0m)     │         \u001b[38;5;34m4,640\u001b[0m │\n",
       "├─────────────────────────────────┼────────────────────────┼───────────────┤\n",
       "│ max_pooling2d_3 (\u001b[38;5;33mMaxPooling2D\u001b[0m)  │ (\u001b[38;5;45mNone\u001b[0m, \u001b[38;5;34m38\u001b[0m, \u001b[38;5;34m38\u001b[0m, \u001b[38;5;34m32\u001b[0m)     │             \u001b[38;5;34m0\u001b[0m │\n",
       "├─────────────────────────────────┼────────────────────────┼───────────────┤\n",
       "│ dropout_1 (\u001b[38;5;33mDropout\u001b[0m)             │ (\u001b[38;5;45mNone\u001b[0m, \u001b[38;5;34m38\u001b[0m, \u001b[38;5;34m38\u001b[0m, \u001b[38;5;34m32\u001b[0m)     │             \u001b[38;5;34m0\u001b[0m │\n",
       "├─────────────────────────────────┼────────────────────────┼───────────────┤\n",
       "│ flatten_1 (\u001b[38;5;33mFlatten\u001b[0m)             │ (\u001b[38;5;45mNone\u001b[0m, \u001b[38;5;34m46208\u001b[0m)          │             \u001b[38;5;34m0\u001b[0m │\n",
       "├─────────────────────────────────┼────────────────────────┼───────────────┤\n",
       "│ dense_2 (\u001b[38;5;33mDense\u001b[0m)                 │ (\u001b[38;5;45mNone\u001b[0m, \u001b[38;5;34m64\u001b[0m)             │     \u001b[38;5;34m2,957,376\u001b[0m │\n",
       "├─────────────────────────────────┼────────────────────────┼───────────────┤\n",
       "│ dropout_2 (\u001b[38;5;33mDropout\u001b[0m)             │ (\u001b[38;5;45mNone\u001b[0m, \u001b[38;5;34m64\u001b[0m)             │             \u001b[38;5;34m0\u001b[0m │\n",
       "├─────────────────────────────────┼────────────────────────┼───────────────┤\n",
       "│ dense_3 (\u001b[38;5;33mDense\u001b[0m)                 │ (\u001b[38;5;45mNone\u001b[0m, \u001b[38;5;34m4\u001b[0m)              │           \u001b[38;5;34m260\u001b[0m │\n",
       "└─────────────────────────────────┴────────────────────────┴───────────────┘\n"
      ]
     },
     "metadata": {},
     "output_type": "display_data"
    },
    {
     "data": {
      "text/html": [
       "<pre style=\"white-space:pre;overflow-x:auto;line-height:normal;font-family:Menlo,'DejaVu Sans Mono',consolas,'Courier New',monospace\"><span style=\"font-weight: bold\"> Total params: </span><span style=\"color: #00af00; text-decoration-color: #00af00\">2,962,724</span> (11.30 MB)\n",
       "</pre>\n"
      ],
      "text/plain": [
       "\u001b[1m Total params: \u001b[0m\u001b[38;5;34m2,962,724\u001b[0m (11.30 MB)\n"
      ]
     },
     "metadata": {},
     "output_type": "display_data"
    },
    {
     "data": {
      "text/html": [
       "<pre style=\"white-space:pre;overflow-x:auto;line-height:normal;font-family:Menlo,'DejaVu Sans Mono',consolas,'Courier New',monospace\"><span style=\"font-weight: bold\"> Trainable params: </span><span style=\"color: #00af00; text-decoration-color: #00af00\">2,962,724</span> (11.30 MB)\n",
       "</pre>\n"
      ],
      "text/plain": [
       "\u001b[1m Trainable params: \u001b[0m\u001b[38;5;34m2,962,724\u001b[0m (11.30 MB)\n"
      ]
     },
     "metadata": {},
     "output_type": "display_data"
    },
    {
     "data": {
      "text/html": [
       "<pre style=\"white-space:pre;overflow-x:auto;line-height:normal;font-family:Menlo,'DejaVu Sans Mono',consolas,'Courier New',monospace\"><span style=\"font-weight: bold\"> Non-trainable params: </span><span style=\"color: #00af00; text-decoration-color: #00af00\">0</span> (0.00 B)\n",
       "</pre>\n"
      ],
      "text/plain": [
       "\u001b[1m Non-trainable params: \u001b[0m\u001b[38;5;34m0\u001b[0m (0.00 B)\n"
      ]
     },
     "metadata": {},
     "output_type": "display_data"
    }
   ],
   "source": [
    "# ---------- COMPILACIÓN ----------\n",
    "cnn_model2.compile(\n",
    "    loss='categorical_crossentropy',\n",
    "    optimizer='adam',\n",
    "    metrics=[tf.keras.metrics.AUC(name='AUC')]\n",
    ")\n",
    "\n",
    "cnn_model2.summary()"
   ]
  },
  {
   "cell_type": "code",
   "execution_count": null,
   "metadata": {
    "colab": {
     "base_uri": "https://localhost:8080/"
    },
    "executionInfo": {
     "elapsed": 1279105,
     "status": "ok",
     "timestamp": 1749371478122,
     "user": {
      "displayName": "fernando piñeres",
      "userId": "12136985157685919790"
     },
     "user_tz": 300
    },
    "id": "N-T9fpox0sn4",
    "outputId": "373d2dff-89e7-46bd-ed1d-112d234d8b1c"
   },
   "outputs": [
    {
     "name": "stdout",
     "output_type": "stream",
     "text": [
      "Epoch 1/7\n",
      "\u001b[1m64/64\u001b[0m \u001b[32m━━━━━━━━━━━━━━━━━━━━\u001b[0m\u001b[37m\u001b[0m \u001b[1m0s\u001b[0m 2s/step - AUC: 0.7617 - loss: 1.2672\n",
      "Epoch 1: val_AUC improved from -inf to 0.93553, saving model to best_model_l2_dropout.keras\n",
      "\u001b[1m64/64\u001b[0m \u001b[32m━━━━━━━━━━━━━━━━━━━━\u001b[0m\u001b[37m\u001b[0m \u001b[1m160s\u001b[0m 2s/step - AUC: 0.7633 - loss: 1.2633 - val_AUC: 0.9355 - val_loss: 0.7465\n",
      "Epoch 2/7\n",
      "\u001b[1m64/64\u001b[0m \u001b[32m━━━━━━━━━━━━━━━━━━━━\u001b[0m\u001b[37m\u001b[0m \u001b[1m0s\u001b[0m 2s/step - AUC: 0.9416 - loss: 0.7006\n",
      "Epoch 2: val_AUC improved from 0.93553 to 0.96125, saving model to best_model_l2_dropout.keras\n",
      "\u001b[1m64/64\u001b[0m \u001b[32m━━━━━━━━━━━━━━━━━━━━\u001b[0m\u001b[37m\u001b[0m \u001b[1m194s\u001b[0m 2s/step - AUC: 0.9417 - loss: 0.7001 - val_AUC: 0.9613 - val_loss: 0.5984\n",
      "Epoch 3/7\n",
      "\u001b[1m64/64\u001b[0m \u001b[32m━━━━━━━━━━━━━━━━━━━━\u001b[0m\u001b[37m\u001b[0m \u001b[1m0s\u001b[0m 2s/step - AUC: 0.9660 - loss: 0.5616\n",
      "Epoch 3: val_AUC improved from 0.96125 to 0.96840, saving model to best_model_l2_dropout.keras\n",
      "\u001b[1m64/64\u001b[0m \u001b[32m━━━━━━━━━━━━━━━━━━━━\u001b[0m\u001b[37m\u001b[0m \u001b[1m217s\u001b[0m 3s/step - AUC: 0.9661 - loss: 0.5614 - val_AUC: 0.9684 - val_loss: 0.5510\n",
      "Epoch 4/7\n",
      "\u001b[1m64/64\u001b[0m \u001b[32m━━━━━━━━━━━━━━━━━━━━\u001b[0m\u001b[37m\u001b[0m \u001b[1m0s\u001b[0m 2s/step - AUC: 0.9764 - loss: 0.4910\n",
      "Epoch 4: val_AUC improved from 0.96840 to 0.97360, saving model to best_model_l2_dropout.keras\n",
      "\u001b[1m64/64\u001b[0m \u001b[32m━━━━━━━━━━━━━━━━━━━━\u001b[0m\u001b[37m\u001b[0m \u001b[1m148s\u001b[0m 2s/step - AUC: 0.9764 - loss: 0.4908 - val_AUC: 0.9736 - val_loss: 0.5176\n",
      "Epoch 5/7\n",
      "\u001b[1m64/64\u001b[0m \u001b[32m━━━━━━━━━━━━━━━━━━━━\u001b[0m\u001b[37m\u001b[0m \u001b[1m0s\u001b[0m 2s/step - AUC: 0.9810 - loss: 0.4580\n",
      "Epoch 5: val_AUC improved from 0.97360 to 0.97540, saving model to best_model_l2_dropout.keras\n",
      "\u001b[1m64/64\u001b[0m \u001b[32m━━━━━━━━━━━━━━━━━━━━\u001b[0m\u001b[37m\u001b[0m \u001b[1m150s\u001b[0m 2s/step - AUC: 0.9810 - loss: 0.4580 - val_AUC: 0.9754 - val_loss: 0.5143\n",
      "Epoch 6/7\n",
      "\u001b[1m64/64\u001b[0m \u001b[32m━━━━━━━━━━━━━━━━━━━━\u001b[0m\u001b[37m\u001b[0m \u001b[1m0s\u001b[0m 2s/step - AUC: 0.9820 - loss: 0.4601\n",
      "Epoch 6: val_AUC did not improve from 0.97540\n",
      "\u001b[1m64/64\u001b[0m \u001b[32m━━━━━━━━━━━━━━━━━━━━\u001b[0m\u001b[37m\u001b[0m \u001b[1m198s\u001b[0m 2s/step - AUC: 0.9820 - loss: 0.4602 - val_AUC: 0.9734 - val_loss: 0.5362\n",
      "Epoch 7/7\n",
      "\u001b[1m64/64\u001b[0m \u001b[32m━━━━━━━━━━━━━━━━━━━━\u001b[0m\u001b[37m\u001b[0m \u001b[1m0s\u001b[0m 2s/step - AUC: 0.9867 - loss: 0.4277\n",
      "Epoch 7: val_AUC did not improve from 0.97540\n",
      "\u001b[1m64/64\u001b[0m \u001b[32m━━━━━━━━━━━━━━━━━━━━\u001b[0m\u001b[37m\u001b[0m \u001b[1m207s\u001b[0m 2s/step - AUC: 0.9867 - loss: 0.4276 - val_AUC: 0.9739 - val_loss: 0.5335\n"
     ]
    }
   ],
   "source": [
    "\n",
    "# ---------- CHECKPOINT ----------\n",
    "\n",
    "from keras.callbacks import EarlyStopping, ModelCheckpoint\n",
    "\n",
    "early_stopping = EarlyStopping(\n",
    "    monitor='val_AUC',\n",
    "    patience=3,\n",
    "    mode='max',\n",
    "    restore_best_weights=True\n",
    ")\n",
    "\n",
    "\n",
    "\n",
    "checkpoint2 = ModelCheckpoint(\n",
    "    filepath='best_model_l2_dropout.keras',\n",
    "    monitor='val_AUC',\n",
    "    mode='max',\n",
    "    save_best_only=True,\n",
    "    verbose=1\n",
    ")\n",
    "\n",
    "# ---------- ENTRENAMIENTO ----------\n",
    "history2 = cnn_model2.fit(\n",
    "    x_train_balanced, y_train_balanced,\n",
    "    batch_size=100,\n",
    "    epochs=7,\n",
    "    validation_data=(x_test_balanced, y_test_balanced),\n",
    "    callbacks=[checkpoint2,early_stopping]\n",
    ")"
   ]
  },
  {
   "cell_type": "code",
   "execution_count": null,
   "metadata": {
    "colab": {
     "base_uri": "https://localhost:8080/",
     "height": 472
    },
    "executionInfo": {
     "elapsed": 153,
     "status": "ok",
     "timestamp": 1749371487863,
     "user": {
      "displayName": "fernando piñeres",
      "userId": "12136985157685919790"
     },
     "user_tz": 300
    },
    "id": "zaazH3ua5bqj",
    "outputId": "1549278c-8879-41c7-93a2-fe498392624f"
   },
   "outputs": [
    {
     "data": {
      "image/png": "[encoded data removed]",
      "text/plain": [
       "<Figure size 640x480 with 1 Axes>"
      ]
     },
     "metadata": {},
     "output_type": "display_data"
    }
   ],
   "source": [
    "plt.plot(history2.history['loss'])\n",
    "plt.plot(history2.history['val_loss'])\n",
    "plt.title('Model loss')\n",
    "plt.ylabel('Loss')\n",
    "plt.xlabel('Epoch - entrenamiento')\n",
    "plt.legend(['Train', 'Test'], loc='upper left')\n",
    "plt.show()\n"
   ]
  },
  {
   "cell_type": "code",
   "execution_count": null,
   "metadata": {
    "colab": {
     "base_uri": "https://localhost:8080/",
     "height": 472
    },
    "executionInfo": {
     "elapsed": 170,
     "status": "ok",
     "timestamp": 1749371492609,
     "user": {
      "displayName": "fernando piñeres",
      "userId": "12136985157685919790"
     },
     "user_tz": 300
    },
    "id": "5lH6oQ97542R",
    "outputId": "c62834d8-bcc7-48e5-f7f7-8c344f0f4339"
   },
   "outputs": [
    {
     "data": {
      "image/png": "[encoded data removed]",
      "text/plain": [
       "<Figure size 640x480 with 1 Axes>"
      ]
     },
     "metadata": {},
     "output_type": "display_data"
    }
   ],
   "source": [
    "plt.plot(history2.history['AUC'])\n",
    "plt.plot(history2.history['val_AUC'])\n",
    "plt.title('variacion de la metrica AUC')\n",
    "plt.ylabel('loss')\n",
    "plt.xlabel('Epoch - entrenamiento')\n",
    "plt.legend(['Train', 'Test'], loc='upper left')\n",
    "plt.show()"
   ]
  },
  {
   "cell_type": "markdown",
   "metadata": {
    "id": "sZwFBvgb5slx"
   },
   "source": [
    "##### MODELO CON AJUSTES DE HIPERPARAMETROS\n",
    "---"
   ]
  },
  {
   "cell_type": "code",
   "execution_count": null,
   "metadata": {
    "colab": {
     "base_uri": "https://localhost:8080/",
     "height": 1000
    },
    "executionInfo": {
     "elapsed": 1993886,
     "status": "ok",
     "timestamp": 1749373498052,
     "user": {
      "displayName": "fernando piñeres",
      "userId": "12136985157685919790"
     },
     "user_tz": 300
    },
    "id": "Sf192Y__7o6s",
    "outputId": "97d55da3-48e0-4a75-cfa7-1874558f221b"
   },
   "outputs": [
    {
     "name": "stderr",
     "output_type": "stream",
     "text": [
      "[I 2025-06-08 08:31:44,285] A new study created in memory with name: no-name-75bb18b7-e462-4cb3-b130-c8fe96ba3df4\n"
     ]
    },
    {
     "name": "stdout",
     "output_type": "stream",
     "text": [
      "\n",
      "Epoch 1: val_auc improved from -inf to 0.93858, saving model to best_modelo_hiperparametros.keras\n"
     ]
    },
    {
     "name": "stderr",
     "output_type": "stream",
     "text": [
      "/usr/local/lib/python3.11/dist-packages/keras/src/callbacks/early_stopping.py:153: UserWarning: Early stopping conditioned on metric `val_AUC` which is not available. Available metrics are: auc,loss,val_auc,val_loss\n",
      "  current = self.get_monitor_value(logs)\n"
     ]
    },
    {
     "name": "stdout",
     "output_type": "stream",
     "text": [
      "\n",
      "Epoch 2: val_auc improved from 0.93858 to 0.96444, saving model to best_modelo_hiperparametros.keras\n",
      "\n",
      "Epoch 3: val_auc improved from 0.96444 to 0.97016, saving model to best_modelo_hiperparametros.keras\n",
      "\n",
      "Epoch 4: val_auc improved from 0.97016 to 0.97146, saving model to best_modelo_hiperparametros.keras\n",
      "\n",
      "Epoch 5: val_auc improved from 0.97146 to 0.97291, saving model to best_modelo_hiperparametros.keras\n",
      "\n",
      "Epoch 6: val_auc did not improve from 0.97291\n",
      "\n",
      "Epoch 7: val_auc did not improve from 0.97291\n",
      "\n",
      "Epoch 8: val_auc improved from 0.97291 to 0.97387, saving model to best_modelo_hiperparametros.keras\n",
      "\n",
      "Epoch 9: val_auc did not improve from 0.97387\n",
      "\n",
      "Epoch 10: val_auc did not improve from 0.97387\n",
      "\u001b[1m25/25\u001b[0m \u001b[32m━━━━━━━━━━━━━━━━━━━━\u001b[0m\u001b[37m\u001b[0m \u001b[1m5s\u001b[0m 179ms/step\n"
     ]
    },
    {
     "name": "stderr",
     "output_type": "stream",
     "text": [
      "[I 2025-06-08 09:04:46,621] Trial 0 finished with value: 0.9747125000000001 and parameters: {'dropout_rate': 0.05, 'reg_strength': 0.0001, 'optimizer': 'adam'}. Best is trial 0 with value: 0.9747125000000001.\n"
     ]
    },
    {
     "name": "stdout",
     "output_type": "stream",
     "text": [
      "\u001b[1m25/25\u001b[0m \u001b[32m━━━━━━━━━━━━━━━━━━━━\u001b[0m\u001b[37m\u001b[0m \u001b[1m7s\u001b[0m 274ms/step - auc: 0.9730 - loss: 0.4916\n",
      "\\Mejor AUC on test set: 0.9739\n"
     ]
    },
    {
     "data": {
      "text/html": [
       "<pre style=\"white-space:pre;overflow-x:auto;line-height:normal;font-family:Menlo,'DejaVu Sans Mono',consolas,'Courier New',monospace\"><span style=\"font-weight: bold\">Model: \"functional_17\"</span>\n",
       "</pre>\n"
      ],
      "text/plain": [
       "\u001b[1mModel: \"functional_17\"\u001b[0m\n"
      ]
     },
     "metadata": {},
     "output_type": "display_data"
    },
    {
     "data": {
      "text/html": [
       "<pre style=\"white-space:pre;overflow-x:auto;line-height:normal;font-family:Menlo,'DejaVu Sans Mono',consolas,'Courier New',monospace\">┏━━━━━━━━━━━━━━━━━━━━━━━━━━━━━━━━━┳━━━━━━━━━━━━━━━━━━━━━━━━┳━━━━━━━━━━━━━━━┓\n",
       "┃<span style=\"font-weight: bold\"> Layer (type)                    </span>┃<span style=\"font-weight: bold\"> Output Shape           </span>┃<span style=\"font-weight: bold\">       Param # </span>┃\n",
       "┡━━━━━━━━━━━━━━━━━━━━━━━━━━━━━━━━━╇━━━━━━━━━━━━━━━━━━━━━━━━╇━━━━━━━━━━━━━━━┩\n",
       "│ input_layer_2 (<span style=\"color: #0087ff; text-decoration-color: #0087ff\">InputLayer</span>)      │ (<span style=\"color: #00d7ff; text-decoration-color: #00d7ff\">None</span>, <span style=\"color: #00af00; text-decoration-color: #00af00\">160</span>, <span style=\"color: #00af00; text-decoration-color: #00af00\">160</span>, <span style=\"color: #00af00; text-decoration-color: #00af00\">3</span>)    │             <span style=\"color: #00af00; text-decoration-color: #00af00\">0</span> │\n",
       "├─────────────────────────────────┼────────────────────────┼───────────────┤\n",
       "│ conv2d_3 (<span style=\"color: #0087ff; text-decoration-color: #0087ff\">Conv2D</span>)               │ (<span style=\"color: #00d7ff; text-decoration-color: #00d7ff\">None</span>, <span style=\"color: #00af00; text-decoration-color: #00af00\">158</span>, <span style=\"color: #00af00; text-decoration-color: #00af00\">158</span>, <span style=\"color: #00af00; text-decoration-color: #00af00\">16</span>)   │           <span style=\"color: #00af00; text-decoration-color: #00af00\">448</span> │\n",
       "├─────────────────────────────────┼────────────────────────┼───────────────┤\n",
       "│ max_pooling2d_4 (<span style=\"color: #0087ff; text-decoration-color: #0087ff\">MaxPooling2D</span>)  │ (<span style=\"color: #00d7ff; text-decoration-color: #00d7ff\">None</span>, <span style=\"color: #00af00; text-decoration-color: #00af00\">79</span>, <span style=\"color: #00af00; text-decoration-color: #00af00\">79</span>, <span style=\"color: #00af00; text-decoration-color: #00af00\">16</span>)     │             <span style=\"color: #00af00; text-decoration-color: #00af00\">0</span> │\n",
       "├─────────────────────────────────┼────────────────────────┼───────────────┤\n",
       "│ dropout_3 (<span style=\"color: #0087ff; text-decoration-color: #0087ff\">Dropout</span>)             │ (<span style=\"color: #00d7ff; text-decoration-color: #00d7ff\">None</span>, <span style=\"color: #00af00; text-decoration-color: #00af00\">79</span>, <span style=\"color: #00af00; text-decoration-color: #00af00\">79</span>, <span style=\"color: #00af00; text-decoration-color: #00af00\">16</span>)     │             <span style=\"color: #00af00; text-decoration-color: #00af00\">0</span> │\n",
       "├─────────────────────────────────┼────────────────────────┼───────────────┤\n",
       "│ last_conv (<span style=\"color: #0087ff; text-decoration-color: #0087ff\">Conv2D</span>)              │ (<span style=\"color: #00d7ff; text-decoration-color: #00d7ff\">None</span>, <span style=\"color: #00af00; text-decoration-color: #00af00\">77</span>, <span style=\"color: #00af00; text-decoration-color: #00af00\">77</span>, <span style=\"color: #00af00; text-decoration-color: #00af00\">32</span>)     │         <span style=\"color: #00af00; text-decoration-color: #00af00\">4,640</span> │\n",
       "├─────────────────────────────────┼────────────────────────┼───────────────┤\n",
       "│ max_pooling2d_5 (<span style=\"color: #0087ff; text-decoration-color: #0087ff\">MaxPooling2D</span>)  │ (<span style=\"color: #00d7ff; text-decoration-color: #00d7ff\">None</span>, <span style=\"color: #00af00; text-decoration-color: #00af00\">38</span>, <span style=\"color: #00af00; text-decoration-color: #00af00\">38</span>, <span style=\"color: #00af00; text-decoration-color: #00af00\">32</span>)     │             <span style=\"color: #00af00; text-decoration-color: #00af00\">0</span> │\n",
       "├─────────────────────────────────┼────────────────────────┼───────────────┤\n",
       "│ dropout_4 (<span style=\"color: #0087ff; text-decoration-color: #0087ff\">Dropout</span>)             │ (<span style=\"color: #00d7ff; text-decoration-color: #00d7ff\">None</span>, <span style=\"color: #00af00; text-decoration-color: #00af00\">38</span>, <span style=\"color: #00af00; text-decoration-color: #00af00\">38</span>, <span style=\"color: #00af00; text-decoration-color: #00af00\">32</span>)     │             <span style=\"color: #00af00; text-decoration-color: #00af00\">0</span> │\n",
       "├─────────────────────────────────┼────────────────────────┼───────────────┤\n",
       "│ flatten_2 (<span style=\"color: #0087ff; text-decoration-color: #0087ff\">Flatten</span>)             │ (<span style=\"color: #00d7ff; text-decoration-color: #00d7ff\">None</span>, <span style=\"color: #00af00; text-decoration-color: #00af00\">46208</span>)          │             <span style=\"color: #00af00; text-decoration-color: #00af00\">0</span> │\n",
       "├─────────────────────────────────┼────────────────────────┼───────────────┤\n",
       "│ dense_4 (<span style=\"color: #0087ff; text-decoration-color: #0087ff\">Dense</span>)                 │ (<span style=\"color: #00d7ff; text-decoration-color: #00d7ff\">None</span>, <span style=\"color: #00af00; text-decoration-color: #00af00\">64</span>)             │     <span style=\"color: #00af00; text-decoration-color: #00af00\">2,957,376</span> │\n",
       "├─────────────────────────────────┼────────────────────────┼───────────────┤\n",
       "│ dropout_5 (<span style=\"color: #0087ff; text-decoration-color: #0087ff\">Dropout</span>)             │ (<span style=\"color: #00d7ff; text-decoration-color: #00d7ff\">None</span>, <span style=\"color: #00af00; text-decoration-color: #00af00\">64</span>)             │             <span style=\"color: #00af00; text-decoration-color: #00af00\">0</span> │\n",
       "├─────────────────────────────────┼────────────────────────┼───────────────┤\n",
       "│ dense_5 (<span style=\"color: #0087ff; text-decoration-color: #0087ff\">Dense</span>)                 │ (<span style=\"color: #00d7ff; text-decoration-color: #00d7ff\">None</span>, <span style=\"color: #00af00; text-decoration-color: #00af00\">4</span>)              │           <span style=\"color: #00af00; text-decoration-color: #00af00\">260</span> │\n",
       "└─────────────────────────────────┴────────────────────────┴───────────────┘\n",
       "</pre>\n"
      ],
      "text/plain": [
       "┏━━━━━━━━━━━━━━━━━━━━━━━━━━━━━━━━━┳━━━━━━━━━━━━━━━━━━━━━━━━┳━━━━━━━━━━━━━━━┓\n",
       "┃\u001b[1m \u001b[0m\u001b[1mLayer (type)                   \u001b[0m\u001b[1m \u001b[0m┃\u001b[1m \u001b[0m\u001b[1mOutput Shape          \u001b[0m\u001b[1m \u001b[0m┃\u001b[1m \u001b[0m\u001b[1m      Param #\u001b[0m\u001b[1m \u001b[0m┃\n",
       "┡━━━━━━━━━━━━━━━━━━━━━━━━━━━━━━━━━╇━━━━━━━━━━━━━━━━━━━━━━━━╇━━━━━━━━━━━━━━━┩\n",
       "│ input_layer_2 (\u001b[38;5;33mInputLayer\u001b[0m)      │ (\u001b[38;5;45mNone\u001b[0m, \u001b[38;5;34m160\u001b[0m, \u001b[38;5;34m160\u001b[0m, \u001b[38;5;34m3\u001b[0m)    │             \u001b[38;5;34m0\u001b[0m │\n",
       "├─────────────────────────────────┼────────────────────────┼───────────────┤\n",
       "│ conv2d_3 (\u001b[38;5;33mConv2D\u001b[0m)               │ (\u001b[38;5;45mNone\u001b[0m, \u001b[38;5;34m158\u001b[0m, \u001b[38;5;34m158\u001b[0m, \u001b[38;5;34m16\u001b[0m)   │           \u001b[38;5;34m448\u001b[0m │\n",
       "├─────────────────────────────────┼────────────────────────┼───────────────┤\n",
       "│ max_pooling2d_4 (\u001b[38;5;33mMaxPooling2D\u001b[0m)  │ (\u001b[38;5;45mNone\u001b[0m, \u001b[38;5;34m79\u001b[0m, \u001b[38;5;34m79\u001b[0m, \u001b[38;5;34m16\u001b[0m)     │             \u001b[38;5;34m0\u001b[0m │\n",
       "├─────────────────────────────────┼────────────────────────┼───────────────┤\n",
       "│ dropout_3 (\u001b[38;5;33mDropout\u001b[0m)             │ (\u001b[38;5;45mNone\u001b[0m, \u001b[38;5;34m79\u001b[0m, \u001b[38;5;34m79\u001b[0m, \u001b[38;5;34m16\u001b[0m)     │             \u001b[38;5;34m0\u001b[0m │\n",
       "├─────────────────────────────────┼────────────────────────┼───────────────┤\n",
       "│ last_conv (\u001b[38;5;33mConv2D\u001b[0m)              │ (\u001b[38;5;45mNone\u001b[0m, \u001b[38;5;34m77\u001b[0m, \u001b[38;5;34m77\u001b[0m, \u001b[38;5;34m32\u001b[0m)     │         \u001b[38;5;34m4,640\u001b[0m │\n",
       "├─────────────────────────────────┼────────────────────────┼───────────────┤\n",
       "│ max_pooling2d_5 (\u001b[38;5;33mMaxPooling2D\u001b[0m)  │ (\u001b[38;5;45mNone\u001b[0m, \u001b[38;5;34m38\u001b[0m, \u001b[38;5;34m38\u001b[0m, \u001b[38;5;34m32\u001b[0m)     │             \u001b[38;5;34m0\u001b[0m │\n",
       "├─────────────────────────────────┼────────────────────────┼───────────────┤\n",
       "│ dropout_4 (\u001b[38;5;33mDropout\u001b[0m)             │ (\u001b[38;5;45mNone\u001b[0m, \u001b[38;5;34m38\u001b[0m, \u001b[38;5;34m38\u001b[0m, \u001b[38;5;34m32\u001b[0m)     │             \u001b[38;5;34m0\u001b[0m │\n",
       "├─────────────────────────────────┼────────────────────────┼───────────────┤\n",
       "│ flatten_2 (\u001b[38;5;33mFlatten\u001b[0m)             │ (\u001b[38;5;45mNone\u001b[0m, \u001b[38;5;34m46208\u001b[0m)          │             \u001b[38;5;34m0\u001b[0m │\n",
       "├─────────────────────────────────┼────────────────────────┼───────────────┤\n",
       "│ dense_4 (\u001b[38;5;33mDense\u001b[0m)                 │ (\u001b[38;5;45mNone\u001b[0m, \u001b[38;5;34m64\u001b[0m)             │     \u001b[38;5;34m2,957,376\u001b[0m │\n",
       "├─────────────────────────────────┼────────────────────────┼───────────────┤\n",
       "│ dropout_5 (\u001b[38;5;33mDropout\u001b[0m)             │ (\u001b[38;5;45mNone\u001b[0m, \u001b[38;5;34m64\u001b[0m)             │             \u001b[38;5;34m0\u001b[0m │\n",
       "├─────────────────────────────────┼────────────────────────┼───────────────┤\n",
       "│ dense_5 (\u001b[38;5;33mDense\u001b[0m)                 │ (\u001b[38;5;45mNone\u001b[0m, \u001b[38;5;34m4\u001b[0m)              │           \u001b[38;5;34m260\u001b[0m │\n",
       "└─────────────────────────────────┴────────────────────────┴───────────────┘\n"
      ]
     },
     "metadata": {},
     "output_type": "display_data"
    },
    {
     "data": {
      "text/html": [
       "<pre style=\"white-space:pre;overflow-x:auto;line-height:normal;font-family:Menlo,'DejaVu Sans Mono',consolas,'Courier New',monospace\"><span style=\"font-weight: bold\"> Total params: </span><span style=\"color: #00af00; text-decoration-color: #00af00\">8,888,174</span> (33.91 MB)\n",
       "</pre>\n"
      ],
      "text/plain": [
       "\u001b[1m Total params: \u001b[0m\u001b[38;5;34m8,888,174\u001b[0m (33.91 MB)\n"
      ]
     },
     "metadata": {},
     "output_type": "display_data"
    },
    {
     "data": {
      "text/html": [
       "<pre style=\"white-space:pre;overflow-x:auto;line-height:normal;font-family:Menlo,'DejaVu Sans Mono',consolas,'Courier New',monospace\"><span style=\"font-weight: bold\"> Trainable params: </span><span style=\"color: #00af00; text-decoration-color: #00af00\">2,962,724</span> (11.30 MB)\n",
       "</pre>\n"
      ],
      "text/plain": [
       "\u001b[1m Trainable params: \u001b[0m\u001b[38;5;34m2,962,724\u001b[0m (11.30 MB)\n"
      ]
     },
     "metadata": {},
     "output_type": "display_data"
    },
    {
     "data": {
      "text/html": [
       "<pre style=\"white-space:pre;overflow-x:auto;line-height:normal;font-family:Menlo,'DejaVu Sans Mono',consolas,'Courier New',monospace\"><span style=\"font-weight: bold\"> Non-trainable params: </span><span style=\"color: #00af00; text-decoration-color: #00af00\">0</span> (0.00 B)\n",
       "</pre>\n"
      ],
      "text/plain": [
       "\u001b[1m Non-trainable params: \u001b[0m\u001b[38;5;34m0\u001b[0m (0.00 B)\n"
      ]
     },
     "metadata": {},
     "output_type": "display_data"
    },
    {
     "data": {
      "text/html": [
       "<pre style=\"white-space:pre;overflow-x:auto;line-height:normal;font-family:Menlo,'DejaVu Sans Mono',consolas,'Courier New',monospace\"><span style=\"font-weight: bold\"> Optimizer params: </span><span style=\"color: #00af00; text-decoration-color: #00af00\">5,925,450</span> (22.60 MB)\n",
       "</pre>\n"
      ],
      "text/plain": [
       "\u001b[1m Optimizer params: \u001b[0m\u001b[38;5;34m5,925,450\u001b[0m (22.60 MB)\n"
      ]
     },
     "metadata": {},
     "output_type": "display_data"
    }
   ],
   "source": [
    "# Función objetivo para utilizar Optuna con API funcional\n",
    "def objective(trial):\n",
    "    # Hiperparámetros\n",
    "    dropout_rate = trial.suggest_float('dropout_rate', 0.05, 0.2, step=0.05)\n",
    "    reg_strength = trial.suggest_float('reg_strength', 0.0001, 0.0005, step=0.0001)\n",
    "    optimizer_name = trial.suggest_categorical('optimizer', ['adam', 'sgd'])\n",
    "\n",
    "    # Modelo funcional CNN\n",
    "    inputs = tf.keras.Input(shape=x_train_balanced.shape[1:])\n",
    "    x = tf.keras.layers.Conv2D(16, (3, 3), activation='relu',\n",
    "                               kernel_regularizer=tf.keras.regularizers.l2(reg_strength))(inputs)\n",
    "    x = tf.keras.layers.MaxPooling2D(pool_size=(2, 2))(x)\n",
    "    x = tf.keras.layers.Dropout(dropout_rate)(x)\n",
    "\n",
    "    x = tf.keras.layers.Conv2D(32, (3, 3), activation='relu',\n",
    "                               kernel_regularizer=tf.keras.regularizers.l2(reg_strength),\n",
    "                               name='last_conv')(x)\n",
    "    x = tf.keras.layers.MaxPooling2D(pool_size=(2, 2))(x)\n",
    "    x = tf.keras.layers.Dropout(dropout_rate)(x)\n",
    "\n",
    "    x = tf.keras.layers.Flatten()(x)\n",
    "    x = tf.keras.layers.Dense(64, activation='relu',\n",
    "                              kernel_regularizer=tf.keras.regularizers.l2(reg_strength))(x)\n",
    "    x = tf.keras.layers.Dropout(dropout_rate)(x)\n",
    "    outputs = tf.keras.layers.Dense(4, activation='softmax')(x)\n",
    "\n",
    "    model = tf.keras.Model(inputs=inputs, outputs=outputs)\n",
    "\n",
    "    # Optimizador\n",
    "    opt = tf.keras.optimizers.Adam(learning_rate=0.001) if optimizer_name == 'adam' else tf.keras.optimizers.SGD(learning_rate=0.001)\n",
    "\n",
    "    # Compilar\n",
    "    model.compile(optimizer=opt, loss=\"categorical_crossentropy\", metrics=[tf.keras.metrics.AUC(name='auc')])\n",
    "\n",
    "    # Callback\n",
    "\n",
    "    early_stopping = EarlyStopping(\n",
    "    monitor='val_AUC',\n",
    "    patience=3,\n",
    "    mode='max',\n",
    "    restore_best_weights=True\n",
    ")\n",
    "\n",
    "\n",
    "    checkpoint3 = ModelCheckpoint(\n",
    "        filepath='best_modelo_hiperparametros.keras',\n",
    "        monitor='val_auc',\n",
    "        mode='max',\n",
    "        save_best_only=True,\n",
    "        verbose=1\n",
    "    )\n",
    "\n",
    "    # Entrenamiento\n",
    "    history3 = model.fit(\n",
    "        x_train_balanced, y_train_balanced,\n",
    "        epochs=10,\n",
    "        validation_data=(x_test_balanced, y_test_balanced),\n",
    "        batch_size=100,\n",
    "        verbose=0,\n",
    "        callbacks=[checkpoint3, early_stopping]\n",
    "    )\n",
    "\n",
    "    # Cargar mejor modelo\n",
    "    model_win = tf.keras.models.load_model('best_modelo_hiperparametros.keras')\n",
    "\n",
    "    # Evaluación\n",
    "    y_pred_prob = model_win.predict(x_test_balanced)\n",
    "    auc = roc_auc_score(y_test_balanced, y_pred_prob)\n",
    "    trial.set_user_attr(\"model\", model_win)\n",
    "\n",
    "    return auc\n",
    "\n",
    "  # Run the optimization\n",
    "study = optuna.create_study(direction=\"maximize\")\n",
    "study.optimize(objective, n_trials=1)\n",
    "\n",
    "# Get best model\n",
    "best_trial = study.best_trial\n",
    "best_model = best_trial.user_attrs[\"model\"]\n",
    "\n",
    "# Final evaluation\n",
    "test_loss, test_auc = best_model.evaluate(x_test_balanced, y_test_balanced)\n",
    "print(f\"\\Mejor AUC on test set: {test_auc:.4f}\")\n",
    "best_model.summary()\n"
   ]
  },
  {
   "cell_type": "code",
   "execution_count": null,
   "metadata": {
    "colab": {
     "base_uri": "https://localhost:8080/"
    },
    "executionInfo": {
     "elapsed": 5887,
     "status": "ok",
     "timestamp": 1749373576881,
     "user": {
      "displayName": "fernando piñeres",
      "userId": "12136985157685919790"
     },
     "user_tz": 300
    },
    "id": "BCfKSBop9PQy",
    "outputId": "d9ed0b24-66ad-416a-ca9c-e8cfa75c82fb"
   },
   "outputs": [
    {
     "name": "stdout",
     "output_type": "stream",
     "text": [
      "\u001b[1m25/25\u001b[0m \u001b[32m━━━━━━━━━━━━━━━━━━━━\u001b[0m\u001b[37m\u001b[0m \u001b[1m5s\u001b[0m 186ms/step - auc: 0.9730 - loss: 0.4916\n",
      "\\Mejor AUC on test set: 0.9739\n"
     ]
    }
   ],
   "source": [
    "modelo_ganador=tf.keras.models.load_model('best_modelo_hiperparametros.keras')\n",
    "test_loss, test_auc = modelo_ganador.evaluate(x_test_balanced, y_test_balanced)\n",
    "print(f\"\\Mejor AUC on test set: {test_auc:.4f}\")\n",
    "\n"
   ]
  },
  {
   "cell_type": "code",
   "execution_count": null,
   "metadata": {
    "colab": {
     "base_uri": "https://localhost:8080/",
     "height": 488
    },
    "executionInfo": {
     "elapsed": 6123,
     "status": "ok",
     "timestamp": 1749373588242,
     "user": {
      "displayName": "fernando piñeres",
      "userId": "12136985157685919790"
     },
     "user_tz": 300
    },
    "id": "BqWICPXl9_Pc",
    "outputId": "4c1edc80-6076-41e0-b809-2ceff0df1430"
   },
   "outputs": [
    {
     "name": "stdout",
     "output_type": "stream",
     "text": [
      "\u001b[1m25/25\u001b[0m \u001b[32m━━━━━━━━━━━━━━━━━━━━\u001b[0m\u001b[37m\u001b[0m \u001b[1m5s\u001b[0m 176ms/step\n"
     ]
    },
    {
     "data": {
      "text/plain": [
       "Text(0.5, 1.0, 'probabilidades imágenes en entrenamiento')"
      ]
     },
     "execution_count": 45,
     "metadata": {},
     "output_type": "execute_result"
    },
    {
     "data": {
      "image/png": "[encoded data removed]",
      "text/plain": [
       "<Figure size 640x480 with 1 Axes>"
      ]
     },
     "metadata": {},
     "output_type": "display_data"
    }
   ],
   "source": [
    "import seaborn as sns\n",
    "import matplotlib.pyplot as plt\n",
    "\n",
    "####probabilidades en evaluación para grupo 1 (tienen neumonía) #######\n",
    "prob=modelo_ganador.predict(x_test_balanced)\n",
    "sns.histplot(prob, legend=False, bins=30)\n",
    "plt.title(\"probabilidades imágenes en entrenamiento\")### conocer el comportamiento de las probabilidades para revisar threshold\n"
   ]
  },
  {
   "cell_type": "code",
   "execution_count": null,
   "metadata": {
    "colab": {
     "base_uri": "https://localhost:8080/",
     "height": 488
    },
    "executionInfo": {
     "elapsed": 50737,
     "status": "ok",
     "timestamp": 1749373644184,
     "user": {
      "displayName": "fernando piñeres",
      "userId": "12136985157685919790"
     },
     "user_tz": 300
    },
    "id": "UNTXuMcP-gCr",
    "outputId": "cad91fde-da7e-4b53-811d-5c5d3e222928"
   },
   "outputs": [
    {
     "name": "stdout",
     "output_type": "stream",
     "text": [
      "\u001b[1m200/200\u001b[0m \u001b[32m━━━━━━━━━━━━━━━━━━━━\u001b[0m\u001b[37m\u001b[0m \u001b[1m45s\u001b[0m 200ms/step\n"
     ]
    },
    {
     "data": {
      "text/plain": [
       "Text(0.5, 1.0, 'probabilidades imágenes en entrenamiento')"
      ]
     },
     "execution_count": 46,
     "metadata": {},
     "output_type": "execute_result"
    },
    {
     "data": {
      "image/png": "[encoded data removed]",
      "text/plain": [
       "<Figure size 640x480 with 1 Axes>"
      ]
     },
     "metadata": {},
     "output_type": "display_data"
    }
   ],
   "source": [
    "### probabilidades en entrenamiento #####\n",
    "prob=modelo_ganador.predict(x_train_balanced)\n",
    "sns.histplot(prob, legend=False, bins=30)\n",
    "plt.title(\"probabilidades imágenes en entrenamiento\")### conocer el comportamiento de las probabilidades para revisar threshold\n"
   ]
  },
  {
   "cell_type": "code",
   "execution_count": null,
   "metadata": {
    "colab": {
     "base_uri": "https://localhost:8080/",
     "height": 1000
    },
    "executionInfo": {
     "elapsed": 53124,
     "status": "ok",
     "timestamp": 1749373940970,
     "user": {
      "displayName": "fernando piñeres",
      "userId": "12136985157685919790"
     },
     "user_tz": 300
    },
    "id": "lGt-bbjPzxX8",
    "outputId": "63a1a438-671d-49f6-9f96-3732a83e6046"
   },
   "outputs": [
    {
     "name": "stdout",
     "output_type": "stream",
     "text": [
      "\u001b[1m200/200\u001b[0m \u001b[32m━━━━━━━━━━━━━━━━━━━━\u001b[0m\u001b[37m\u001b[0m \u001b[1m43s\u001b[0m 205ms/step\n",
      "              precision    recall  f1-score   support\n",
      "\n",
      "      glioma       0.99      0.97      0.98      1600\n",
      "  meningioma       0.97      0.99      0.98      1600\n",
      "   pituitary       1.00      1.00      1.00      1600\n",
      "     notumor       0.99      1.00      0.99      1600\n",
      "\n",
      "    accuracy                           0.99      6400\n",
      "   macro avg       0.99      0.99      0.99      6400\n",
      "weighted avg       0.99      0.99      0.99      6400\n",
      "\n",
      "\u001b[1m25/25\u001b[0m \u001b[32m━━━━━━━━━━━━━━━━━━━━\u001b[0m\u001b[37m\u001b[0m \u001b[1m6s\u001b[0m 227ms/step\n",
      "              precision    recall  f1-score   support\n",
      "\n",
      "      glioma       0.92      0.80      0.86       200\n",
      "  meningioma       0.77      0.84      0.81       200\n",
      "   pituitary       0.96      0.94      0.95       200\n",
      "     notumor       0.86      0.92      0.89       200\n",
      "\n",
      "    accuracy                           0.88       800\n",
      "   macro avg       0.88      0.88      0.88       800\n",
      "weighted avg       0.88      0.88      0.88       800\n",
      "\n"
     ]
    },
    {
     "data": {
      "text/plain": [
       "<sklearn.metrics._plot.confusion_matrix.ConfusionMatrixDisplay at 0x7f3d71d34b90>"
      ]
     },
     "execution_count": 49,
     "metadata": {},
     "output_type": "execute_result"
    },
    {
     "data": {
      "image/png": "[encoded data removed]",
      "text/plain": [
       "<Figure size 640x480 with 2 Axes>"
      ]
     },
     "metadata": {},
     "output_type": "display_data"
    },
    {
     "data": {
      "image/png": "[encoded data removed]",
      "text/plain": [
       "<Figure size 640x480 with 2 Axes>"
      ]
     },
     "metadata": {},
     "output_type": "display_data"
    }
   ],
   "source": [
    "import numpy as np\n",
    "from sklearn import metrics\n",
    "\n",
    "# --- TRAIN ---\n",
    "# Obtener predicciones de clase (no usar threshold)\n",
    "pred_train_prob = modelo_ganador.predict(x_train_balanced)\n",
    "pred_train = np.argmax(pred_train_prob, axis=1)\n",
    "y_train_true = np.argmax(y_train_balanced, axis=1)  # si está one-hot encoded\n",
    "\n",
    "# Reporte de métricas y matriz de confusión\n",
    "print(metrics.classification_report(y_train_true, pred_train, target_names=['glioma', 'meningioma', 'pituitary', 'notumor']))\n",
    "cm = metrics.confusion_matrix(y_train_true, pred_train, labels=[0, 1, 2, 3])\n",
    "disp = metrics.ConfusionMatrixDisplay(cm, display_labels=['glioma', 'meningioma', 'pituitary', 'notumor'])\n",
    "disp.plot()\n",
    "\n",
    "# --- TEST ---\n",
    "pred_test_prob = modelo_ganador.predict(x_test_balanced)\n",
    "pred_test = np.argmax(pred_test_prob, axis=1)\n",
    "y_test_true = np.argmax(y_test_balanced, axis=1)  # si está one-hot encoded\n",
    "\n",
    "print(metrics.classification_report(y_test_true, pred_test, target_names=['glioma', 'meningioma', 'pituitary', 'notumor']))\n",
    "cm = metrics.confusion_matrix(y_test_true, pred_test, labels=[0, 1, 2, 3])\n",
    "disp = metrics.ConfusionMatrixDisplay(cm, display_labels=['glioma', 'meningioma', 'pituitary', 'notumor'])\n",
    "disp.plot()\n"
   ]
  }
 ],
 "metadata": {
  "colab": {
   "provenance": []
  },
  "kernelspec": {
   "display_name": "Python 3",
   "name": "python3"
  },
  "language_info": {
   "name": "python"
  }
 },
 "nbformat": 4,
 "nbformat_minor": 0
}
